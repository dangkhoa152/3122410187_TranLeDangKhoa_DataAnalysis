{
 "nbformat": 4,
 "nbformat_minor": 0,
 "metadata": {
  "colab": {
   "provenance": [],
   "collapsed_sections": [
    "qZybboBHAuso",
    "juG6lnfnCtKe",
    "73YeUlE6DLns",
    "kdpo3haqDWZd",
    "peisWac-EG0h",
    "feeA29NxESzg",
    "JbKSsBU1GORt",
    "IO3WzW0ZGVuN",
    "7zi36QGqGrlF",
    "xomodbQ4G9s0",
    "AKaB4ozEHIFk",
    "cVKp3eiTHbiI",
    "K8VbT3ILHy4y",
    "ui0ED_x6H60x",
    "S0x8s8tkIVlJ",
    "tHSF1IEmIlGp",
    "SNYuCh26JdEi",
    "pQwLDXEgJpx0",
    "QKOKJpp1KVqY",
    "OZbRn3m7LFUo",
    "QDi66cwZLL1H",
    "C9McIMhtLWFg",
    "418QJbByLv2A",
    "FbSs-vt5MFno",
    "NkSIdJttMQdf",
    "1VIyY9XW_M9p",
    "7y5PFT3Z_vIf",
    "FdsM8DWRABDg",
    "4pwIeJldA_89",
    "SXOlLdajBPCd",
    "WC5Rz5XgCBQv",
    "ZWzKmvkCCWh2",
    "_sD1TYxrCl4N",
    "4XGN808mDHAw",
    "cFasOkKmDf7e",
    "sWqWfCrqD6XO",
    "IMq9PpHtFFU5",
    "FXQoF2rXFmFS",
    "U6xwqwfPGIM0",
    "ElqQzTM2HPAF",
    "wEkLSrzoJmgM",
    "EXjMhGV9KP1s",
    "VxFNvS3FL6-9",
    "XKC1SD86M-R2",
    "B0to7eLxPM_d",
    "bnDXiTB4QvG6",
    "DpjU21POQ3IC",
    "vywYoYDqREak",
    "-62ejUeiRfPD",
    "gRXbQky-Rtai",
    "_bW-7DYsSAwt",
    "1wlHxXjeSkfj",
    "ugbJh6z-Sw0K",
    "2ZlqG2dXS948",
    "4WoOpJl4TVjK",
    "K_g_1J5hWj72",
    "XHubyTh9Xc3n",
    "ZAIAcsOoX01F",
    "myQdNEWUX_G2",
    "U8WSPylqYzzs",
    "xJanwZZvY5Zm",
    "BCknK1PeZB4F",
    "LdWAklULZIME",
    "8IZyNVGDavmI",
    "H8NXggd2bMVY",
    "0_0E72UPALEj",
    "_2seNtVWAt7k"
   ],
   "mount_file_id": "1dZ_0KpvISRy6lR_XdixAqN3hmw28sWU5",
   "authorship_tag": "ABX9TyP7M1ivTeZASpWs8uIpbvpy"
  },
  "kernelspec": {
   "name": "python3",
   "display_name": "Python 3"
  },
  "language_info": {
   "name": "python"
  }
 },
 "cells": [
  {
   "cell_type": "markdown",
   "source": [
    "# Python Progamming"
   ],
   "metadata": {
    "id": "qZybboBHAuso"
   }
  },
  {
   "cell_type": "markdown",
   "source": [
    "## Python Hello World\n"
   ],
   "metadata": {
    "id": "juG6lnfnCtKe"
   }
  },
  {
   "cell_type": "code",
   "execution_count": null,
   "metadata": {
    "id": "6r3XlAMn_5Mp"
   },
   "outputs": [],
   "source": [
    "print(\"Hello World\")"
   ]
  },
  {
   "cell_type": "markdown",
   "source": [
    "## Indentation"
   ],
   "metadata": {
    "id": "73YeUlE6DLns"
   }
  },
  {
   "cell_type": "code",
   "source": [
    "score = 80\n",
    "if score >=60 :\n",
    "  print(\"Pass\")"
   ],
   "metadata": {
    "id": "A_if8oVyDNq1"
   },
   "execution_count": null,
   "outputs": []
  },
  {
   "cell_type": "markdown",
   "source": [
    "## Python Variables"
   ],
   "metadata": {
    "id": "kdpo3haqDWZd"
   }
  },
  {
   "cell_type": "code",
   "source": [
    "# Python Variables\n",
    "x = 2\n",
    "print(x)\n",
    "\n",
    "price = 2.5\n",
    "print(price)\n",
    "\n",
    "word = 'Hello'\n",
    "word = 'Hello'\n",
    "word = \"Hello\"\n",
    "word = '''Hello'''\n",
    "print(word)\n",
    "\n",
    "x = 2\n",
    "y = x + 1\n",
    "print(y)"
   ],
   "metadata": {
    "id": "WQmm5JjJDZYs"
   },
   "execution_count": null,
   "outputs": []
  },
  {
   "cell_type": "markdown",
   "source": [
    "## Python_version()"
   ],
   "metadata": {
    "id": "peisWac-EG0h"
   }
  },
  {
   "cell_type": "code",
   "source": [
    "# comment\n",
    "from platform import python_version\n",
    "print(\"Python Version:\", python_version())"
   ],
   "metadata": {
    "id": "cBhvbWG0ELEg"
   },
   "execution_count": null,
   "outputs": []
  },
  {
   "cell_type": "markdown",
   "source": [
    "## Python Data Types"
   ],
   "metadata": {
    "id": "feeA29NxESzg"
   }
  },
  {
   "cell_type": "code",
   "source": [
    "x = \"Hello World\" #str\n",
    "print(f'{x}, data type: {type(x)}')\n",
    "\n",
    "x = 2 #int\n",
    "print(f'{x}, data type: {type(x)}')\n",
    "\n",
    "x = 2.5 #float\n",
    "print(f'{x}, data type: {type(x)}')\n",
    "\n",
    "x = 7j #complex\n",
    "print(f'{x}, data type: {type(x)}')\n",
    "\n",
    "x = [\"apple\", \"banana\", \"cherry\"] #list\n",
    "print(f'{x}, data type: {type(x)}')\n",
    "\n",
    "x = (\"apple\", \"banana\", \"cherry\") #tuple\n",
    "print(f'{x}, data type: {type(x)}')\n",
    "\n",
    "x = range(6) #range\n",
    "print(f'{x}, data type: {type(x)}')\n",
    "\n",
    "x = {\"name\" : \"Tom\", \"age\" : 20} #dict\n",
    "print(f'{x}, data type: {type(x)}')\n",
    "\n",
    "x = {\"apple\", \"banana\", \"cherry\"} #set\n",
    "print(f'{x}, data type: {type(x)}')\n",
    "\n",
    "x = frozenset({\"apple\", \"banana\", \"cherry\"}) #frozenset\n",
    "print(f'{x}, data type: {type(x)}')\n",
    "\n",
    "x = True #bool\n",
    "print(f'{x}, data type: {type(x)}')\n",
    "\n",
    "x = b\"Hello\" #bytes\n",
    "print(f'{x}, data type: {type(x)}')\n",
    "\n",
    "x = bytearray(5) #bytearray\n",
    "print(f'{x}, data type: {type(x)}')\n",
    "\n",
    "x = memoryview(bytes(5)) #memoryview\n",
    "print(f'{x}, data type: {type(x)}')\n",
    "\n",
    "x = None #NoneType\n",
    "print(f'{x}, data type: {type(x)}')"
   ],
   "metadata": {
    "id": "iOl2MGD1EV7A"
   },
   "execution_count": null,
   "outputs": []
  },
  {
   "cell_type": "markdown",
   "source": [
    "## Python Casting"
   ],
   "metadata": {
    "id": "JbKSsBU1GORt"
   }
  },
  {
   "cell_type": "code",
   "source": [
    "x = str(3) # x will be '3'\n",
    "y = int(3) # y will be 3\n",
    "z = float(3) # z will be 3.0\n",
    "print(x, type(x))\n",
    "print(y, type(y))\n",
    "print(z, type(z))"
   ],
   "metadata": {
    "id": "mb_aVvJ4GRNd"
   },
   "execution_count": null,
   "outputs": []
  },
  {
   "cell_type": "markdown",
   "source": [
    "## Python Numbers"
   ],
   "metadata": {
    "id": "IO3WzW0ZGVuN"
   }
  },
  {
   "cell_type": "code",
   "source": [
    "x = 2 # int\n",
    "y = 3.4 # float\n",
    "z = 7j #complex\n",
    "print(x, type(x))\n",
    "print(y, type(y))\n",
    "print(z, type(z))"
   ],
   "metadata": {
    "id": "qrOH6Cv4GYQc"
   },
   "execution_count": null,
   "outputs": []
  },
  {
   "cell_type": "markdown",
   "source": [
    "## Python Basic Operators"
   ],
   "metadata": {
    "id": "7zi36QGqGrlF"
   }
  },
  {
   "cell_type": "code",
   "source": [
    "print('7 + 2 =', 7 + 2)\n",
    "print('7 - 2 =', 7 - 2)\n",
    "print('7 * 2 =', 7 * 2)\n",
    "print('7 / 2 =', 7 / 2)\n",
    "print('7 // 2 =', 7 // 2)\n",
    "print('7 % 2 =', 7 % 2)\n",
    "print('7 ** 2 =', 7 ** 2)"
   ],
   "metadata": {
    "id": "QtTJ9z2cGuv8"
   },
   "execution_count": null,
   "outputs": []
  },
  {
   "cell_type": "markdown",
   "source": [
    "## Python Booleans: True or False"
   ],
   "metadata": {
    "id": "xomodbQ4G9s0"
   }
  },
  {
   "cell_type": "code",
   "source": [
    "# Python Booleans: True or False\n",
    "print(3 > 2)\n",
    "print(3 == 2)\n",
    "print(3 < 2)"
   ],
   "metadata": {
    "id": "iKofIxvxHBaG"
   },
   "execution_count": null,
   "outputs": []
  },
  {
   "cell_type": "markdown",
   "source": [
    "## Python BMI Calculator"
   ],
   "metadata": {
    "id": "AKaB4ozEHIFk"
   }
  },
  {
   "cell_type": "code",
   "source": [
    "# BMI Calculator in Python\n",
    "height_cm = 170\n",
    "weight_kg = 60\n",
    "height_m = height_cm/100\n",
    "BMI = (weight_kg/(height_m**2))\n",
    "\n",
    "print(\"Your BMI is: \" + str(round(BMI,1)))"
   ],
   "metadata": {
    "id": "Ucr6BNrrHKUc"
   },
   "execution_count": null,
   "outputs": []
  },
  {
   "cell_type": "markdown",
   "source": [
    "## How much is your $100 worth after 7 years?"
   ],
   "metadata": {
    "id": "cVKp3eiTHbiI"
   }
  },
  {
   "cell_type": "code",
   "source": [
    "# How much is your $100 worth after 7 years?\n",
    "fv = 100 * 1.1 ** 7\n",
    "print('fv = ', round(fv, 2))\n",
    "# output = 194.87"
   ],
   "metadata": {
    "id": "90sqm6sVHdvo"
   },
   "execution_count": null,
   "outputs": []
  },
  {
   "cell_type": "markdown",
   "source": [
    "## Future Value"
   ],
   "metadata": {
    "id": "K8VbT3ILHy4y"
   }
  },
  {
   "cell_type": "code",
   "source": [
    "# Future Value\n",
    "pv = 100\n",
    "r = 0.1\n",
    "n = 7\n",
    "fv = pv * ((1 + (r)) ** n)\n",
    "print(round(fv, 2))\n",
    "\n",
    "# Future Value\n",
    "amount = 100\n",
    "interest = 10 #10% = 0.01 * 10\n",
    "years = 7\n",
    "\n",
    "future_value = amount * ((1 + (0.01 * interest)) ** years)\n",
    "print(round(future_value, 2))"
   ],
   "metadata": {
    "id": "aH24WspMH02Q"
   },
   "execution_count": null,
   "outputs": []
  },
  {
   "cell_type": "markdown",
   "source": [
    "## List []"
   ],
   "metadata": {
    "id": "ui0ED_x6H60x"
   }
  },
  {
   "cell_type": "code",
   "source": [
    "x = [60, 70, 80, 90]\n",
    "print(len(x))\n",
    "print(x[0])\n",
    "print(x[1])\n",
    "print(x[-1])"
   ],
   "metadata": {
    "id": "BxxFfL8uILnB"
   },
   "execution_count": null,
   "outputs": []
  },
  {
   "cell_type": "markdown",
   "source": [
    "## Tuples ()"
   ],
   "metadata": {
    "id": "S0x8s8tkIVlJ"
   }
  },
  {
   "cell_type": "code",
   "source": [
    "x = (10, 20, 30, 40, 50)\n",
    "print(x[0])\n",
    "print(x[1])\n",
    "print(x[2])\n",
    "print(x[-1])"
   ],
   "metadata": {
    "id": "8fC1a6t7IXyw"
   },
   "execution_count": null,
   "outputs": []
  },
  {
   "cell_type": "markdown",
   "source": [
    "## Sets {}"
   ],
   "metadata": {
    "id": "tHSF1IEmIlGp"
   }
  },
  {
   "cell_type": "code",
   "source": [
    "animals = {'cat', 'dog'}\n",
    "print('cat' in animals)\n",
    "print('fish' in animals)\n",
    "animals.add('fish')\n",
    "print('fish' in animals)\n",
    "print(len(animals))\n",
    "animals.add('cat')\n",
    "print(len(animals))\n",
    "animals.remove('cat')\n",
    "print(len(animals))"
   ],
   "metadata": {
    "id": "06Uj2YD7InKQ"
   },
   "execution_count": null,
   "outputs": []
  },
  {
   "cell_type": "markdown",
   "source": [
    "## Dictionary {key : value}"
   ],
   "metadata": {
    "id": "SNYuCh26JdEi"
   }
  },
  {
   "cell_type": "code",
   "source": [
    "k = { 'EN':'English','FR':'French' }\n",
    "print(k['EN'])"
   ],
   "metadata": {
    "id": "mTKw04s6JfLS"
   },
   "execution_count": null,
   "outputs": []
  },
  {
   "cell_type": "markdown",
   "source": [
    "## Python Data Structures"
   ],
   "metadata": {
    "id": "pQwLDXEgJpx0"
   }
  },
  {
   "cell_type": "code",
   "source": [
    "fruits = [\"apple\", \"banana\", \"cherry\"] #lists []\n",
    "print(fruits[1])\n",
    "\n",
    "colors = (\"red\", \"green\", \"blue\") #tuples ()\n",
    "print(colors[2])\n",
    "\n",
    "animals = {'cat', 'dog'} #sets {}\n",
    "print('cat' in animals)\n",
    "person = {\"name\" : \"Tom\", \"age\" : 20} #dictionaries {}\n",
    "print(person['name'])"
   ],
   "metadata": {
    "id": "vSL-hCTZJsZK"
   },
   "execution_count": null,
   "outputs": []
  },
  {
   "cell_type": "markdown",
   "source": [
    "## Python for Finance Applications"
   ],
   "metadata": {
    "id": "QKOKJpp1KVqY"
   }
  },
  {
   "cell_type": "code",
   "source": [
    "# Python Lists\n",
    "expenses = [72.50, 80.75, 50.00, 90.25]\n",
    "total_expenses = sum(expenses)\n",
    "print(\"Total expenses:\", total_expenses)\n",
    "\n",
    "# Python Tuples\n",
    "accounts = ((\"Cash\", 1001), (\"Accounts Receivable\", 1002), (\"Inventory\", 1003))\n",
    "for account in accounts:\n",
    "  print(\"Account name:\", account[0], \"Account number:\", account[1])\n",
    "\n",
    "# Python Sets\n",
    "account_numbers = {1001, 1002, 1003}\n",
    "new_account_number = 1004\n",
    "if new_account_number not in account_numbers:\n",
    "  print(\"Account number\", new_account_number, \"is not in use.\")\n",
    "\n",
    "# Python Dictionaries\n",
    "accounts = {\"1001\": {\"name\": \"Cash\", \"balance\": 500.00, \"type\": \"Asset\"},\n",
    "\"1002\": {\"name\": \"Accounts Receivable\", \"balance\": 1000.00, \"type\": \"Asset\"},\n",
    "\"2001\": {\"name\": \"Accounts Payable\", \"balance\": 750.00, \"type\": \"Liability\"}}\n",
    "for account_number, account_info in accounts.items():\n",
    "  print(\"Account number:\", account_number)\n",
    "  print(\"Account name:\", account_info[\"name\"])\n",
    "  print(\"Account balance:\", account_info[\"balance\"])\n",
    "  print(\"Account type:\", account_info[\"type\"])"
   ],
   "metadata": {
    "id": "-wiQNNUOKZBw"
   },
   "execution_count": null,
   "outputs": []
  },
  {
   "cell_type": "markdown",
   "source": [
    "## Python if"
   ],
   "metadata": {
    "id": "OZbRn3m7LFUo"
   }
  },
  {
   "cell_type": "code",
   "source": [
    "# Python if\n",
    "score = 80\n",
    "if score >=60 :\n",
    "  print(\"Pass\")"
   ],
   "metadata": {
    "id": "up2VW0LVLIFH"
   },
   "execution_count": null,
   "outputs": []
  },
  {
   "cell_type": "markdown",
   "source": [
    "## Python if else"
   ],
   "metadata": {
    "id": "QDi66cwZLL1H"
   }
  },
  {
   "cell_type": "code",
   "source": [
    "# Python if else\n",
    "score = 80\n",
    "if score >=60 :\n",
    "  print(\"Pass\")\n",
    "else:\n",
    "  print(\"Fail\")"
   ],
   "metadata": {
    "id": "_tiazOfCLOXH"
   },
   "execution_count": null,
   "outputs": []
  },
  {
   "cell_type": "markdown",
   "source": [
    "## Python if elif else"
   ],
   "metadata": {
    "id": "C9McIMhtLWFg"
   }
  },
  {
   "cell_type": "code",
   "source": [
    "score = 95\n",
    "if score >= 90 :\n",
    "  print(\"A\")\n",
    "elif score >=60 :\n",
    "  print(\"Pass\")\n",
    "else:\n",
    "  print(\"Fail\")\n",
    "\n",
    "# Python if elif else\n",
    "score = 90\n",
    "grade = \"\"\n",
    "if score >=90:\n",
    "  grade = \"A\"\n",
    "elif score >= 80:\n",
    "  grade = \"B\"\n",
    "elif score >= 70:\n",
    "  grade = \"C\"\n",
    "elif score >= 60:\n",
    "  grade = \"D\"\n",
    "else:\n",
    "  grade = \"E\"\n",
    "print(grade)"
   ],
   "metadata": {
    "id": "FqehTf0ELZZX"
   },
   "execution_count": null,
   "outputs": []
  },
  {
   "cell_type": "markdown",
   "source": [
    "## Python for Loops"
   ],
   "metadata": {
    "id": "418QJbByLv2A"
   }
  },
  {
   "cell_type": "code",
   "source": [
    "for i in range(1,6):\n",
    "  print(i)\n",
    "print(\"-------------------\")\n",
    "# for loops\n",
    "for i in range(1,10):\n",
    "  for j in range(1,10):\n",
    "    print(i, ' * ' , j , ' = ', i*j)"
   ],
   "metadata": {
    "id": "UWv7RuiJLydI"
   },
   "execution_count": null,
   "outputs": []
  },
  {
   "cell_type": "markdown",
   "source": [
    "## Python while loops"
   ],
   "metadata": {
    "id": "FbSs-vt5MFno"
   }
  },
  {
   "cell_type": "code",
   "source": [
    "# while loops\n",
    "age = 10\n",
    "while age < 20:\n",
    "  print(age)\n",
    "  age = age + 1"
   ],
   "metadata": {
    "id": "XnZgrsOHMKuQ"
   },
   "execution_count": null,
   "outputs": []
  },
  {
   "cell_type": "markdown",
   "source": [
    "## Python Function def"
   ],
   "metadata": {
    "id": "NkSIdJttMQdf"
   }
  },
  {
   "cell_type": "code",
   "source": [
    "# Python Function def\n",
    "# indentation for blocks. four spaces\n",
    "def getfv(pv, r, n):\n",
    "  fv = pv * ((1 + (r)) ** n)\n",
    "  return fv\n",
    "fv = getfv(100, 0.1, 7)\n",
    "print(round(fv, 2))"
   ],
   "metadata": {
    "id": "Hh2FsMZ4MTvH"
   },
   "execution_count": null,
   "outputs": []
  },
  {
   "cell_type": "markdown",
   "source": [
    "## Python Classes/Objects"
   ],
   "metadata": {
    "id": "Fv4bkMn5NRs7"
   }
  },
  {
   "cell_type": "code",
   "source": [
    "# Python class\n",
    "class MyClass:\n",
    "  x = 5\n",
    "\n",
    "c1 = MyClass()\n",
    "print(c1.x)\n",
    "\n",
    "class Person:\n",
    "  def __init__(self, name, age):\n",
    "    self.name = name\n",
    "    self.age = age\n",
    "  def myfunc(self):\n",
    "    print(\"Hello my name is \" + self.name)\n",
    "p1 = Person(\"Alan\", 20)\n",
    "print(p1.name)\n",
    "print(p1.age)\n",
    "p1.myfunc()\n",
    "p1 = Person(\"Alan\", 20)\n",
    "\n",
    "class Vehicle:\n",
    "  name = \"\"\n",
    "  kind = \"car\"\n",
    "  color = \"\"\n",
    "  value = 100.00\n",
    "  def description(self):\n",
    "\n",
    "    desc_str = \"%s is a %s %s worth $%.2f.\" % (self.name, self.color, self.kind, self.value)\n",
    "\n",
    "    return desc_str\n",
    "car1 = Vehicle()\n",
    "car1.name = \"Fer\"\n",
    "car1.color = \"red\"\n",
    "car1.kind = \"convertible\"\n",
    "car1.value = 60000.00\n",
    "\n",
    "car2 = Vehicle()\n",
    "car2.name = \"Jump\"\n",
    "car2.color = \"blue\"\n",
    "car2.kind = \"van\"\n",
    "car2.value = 10000.00\n",
    "\n",
    "print(car1.description())\n",
    "print(car1.name)\n",
    "print(car2.description())\n",
    "print(car2.name)"
   ],
   "metadata": {
    "id": "qSzGTw_iNY1A"
   },
   "execution_count": null,
   "outputs": []
  },
  {
   "cell_type": "markdown",
   "source": [
    "## Python Modules"
   ],
   "metadata": {
    "id": "hFiH416-g5cZ"
   }
  },
  {
   "cell_type": "code",
   "source": [
    "def greeting(name):\n",
    "    print(\"Hello, \" + name)\n",
    "\n",
    "greeting(\"Alan\")"
   ],
   "metadata": {
    "id": "6rPROQUrhAyS"
   },
   "execution_count": null,
   "outputs": []
  },
  {
   "cell_type": "markdown",
   "source": [
    "## Python File Input / Output"
   ],
   "metadata": {
    "id": "vcivGI57iK3F"
   }
  },
  {
   "cell_type": "code",
   "source": [
    "# Python File Input / Output\n",
    "with open('myfile.txt', 'w') as file:\n",
    "\n",
    "  file.write('Hello World\\nThis is Python File Input Output')\n",
    "\n",
    "with open('myfile.txt', 'r') as file:\n",
    "\n",
    "  text = file.read()\n",
    "  print(text)\n",
    "\n",
    "filename = 'mymodule.py'\n",
    "with open(filename, 'w') as file:\n",
    "    text = '''def greeting(name):\n",
    "    print(\"Hello, \" + name)\n",
    "'''\n",
    "    file.write(text)\n",
    "\n",
    "with open(filename, 'r') as file:\n",
    "    text = file.read()\n",
    "print(filename)\n",
    "print(text)\n"
   ],
   "metadata": {
    "id": "BA10SlHDiOgk"
   },
   "execution_count": null,
   "outputs": []
  },
  {
   "cell_type": "markdown",
   "source": [
    "## Python main() function"
   ],
   "metadata": {
    "id": "TZeI7C7hjKmU"
   }
  },
  {
   "cell_type": "code",
   "source": [
    "def main():\n",
    "  print(\"Hello World!\")\n",
    "if __name__ == \"__main__\":\n",
    "  main()"
   ],
   "metadata": {
    "id": "jA7J5Du_jNVq"
   },
   "execution_count": null,
   "outputs": []
  },
  {
   "cell_type": "markdown",
   "source": [
    "## Python Files (File Handling)"
   ],
   "metadata": {
    "id": "Eed5tTKBjUxa"
   }
  },
  {
   "cell_type": "code",
   "source": [
    "f = open(\"myfile.txt\", \"w\")\n",
    "f.write(\"Hello World\")\n",
    "f.close()\n",
    "\n",
    "f = open(\"myfile.txt\", \"r\")\n",
    "text = f.read()\n",
    "print(text)\n",
    "f.close()\n",
    "\n",
    "# Python File Input / Output\n",
    "with open('myfile.txt', 'w') as file:\n",
    "  file.write('Hello World')\n",
    "\n",
    "with open('myfile.txt', 'r') as file:\n",
    "  text = file.read()\n",
    "print(text)\n",
    "\n",
    "# Python File Input / Output\n",
    "with open('myfile.txt', 'w') as file:\n",
    "  file.write('Hello World\\nPython File IO')\n",
    "\n",
    "with open('myfile.txt', 'r') as file:\n",
    "  text = file.read()\n",
    "print(text)"
   ],
   "metadata": {
    "id": "RUFvWpRSjYrB"
   },
   "execution_count": null,
   "outputs": []
  },
  {
   "cell_type": "markdown",
   "source": [
    "## Python OS, IO, File, and GG Drive"
   ],
   "metadata": {
    "id": "-W9TgHlipVTy"
   }
  },
  {
   "cell_type": "code",
   "source": [
    "import os\n",
    "cwd = os.getcwd()\n",
    "print(cwd)"
   ],
   "metadata": {
    "id": "p8cbDbsXpj4c"
   },
   "execution_count": null,
   "outputs": []
  },
  {
   "cell_type": "markdown",
   "source": [
    "## os.listdir()"
   ],
   "metadata": {
    "id": "MS9Ca04ap_yF"
   }
  },
  {
   "cell_type": "code",
   "source": [
    "os.listdir(cwd)"
   ],
   "metadata": {
    "id": "rNQ84DG2qDKU"
   },
   "execution_count": null,
   "outputs": []
  },
  {
   "cell_type": "markdown",
   "source": [
    "## os.path.join()"
   ],
   "metadata": {
    "id": "Q9gwQCmLqGZU"
   }
  },
  {
   "cell_type": "code",
   "source": [
    "path = os.path.join(cwd,'sample_data')\n",
    "print(path)\n",
    "os.listdir(path)"
   ],
   "metadata": {
    "id": "ibbPD6MSqJNs"
   },
   "execution_count": null,
   "outputs": []
  },
  {
   "cell_type": "markdown",
   "source": [
    "## from google.colab import files"
   ],
   "metadata": {
    "id": "AnFbcMkdqOsM"
   }
  },
  {
   "cell_type": "code",
   "source": [
    "from google.colab import files\n",
    "\n",
    "with open('io_file_myday.txt', 'w') as f:\n",
    "\n",
    "  f.write('Google Colab File Write Text some content Myday')\n",
    "\n",
    "import time\n",
    "time.sleep(1) # time sleep 1 second\n",
    "\n",
    "files.download('io_file_myday.txt')\n",
    "print('downloaded')"
   ],
   "metadata": {
    "id": "m2_k_Zp3qQ08"
   },
   "execution_count": null,
   "outputs": []
  },
  {
   "cell_type": "markdown",
   "source": [
    "## Python Files"
   ],
   "metadata": {
    "id": "oajq_KDKqclu"
   }
  },
  {
   "cell_type": "code",
   "source": [
    "from google.colab import files\n",
    "uploaded = files.upload()\n",
    "\n",
    "for fn in uploaded.keys():\n",
    "  print('User uploaded file \"{name}\"with length {length} bytes'.format(\n",
    "name=fn, length=len(uploaded[fn])))"
   ],
   "metadata": {
    "id": "GFxzsu6Wqei0"
   },
   "execution_count": null,
   "outputs": []
  },
  {
   "cell_type": "markdown",
   "source": [
    "## os.remove()"
   ],
   "metadata": {
    "id": "qit738ihqxDd"
   }
  },
  {
   "cell_type": "code",
   "source": [
    "import os\n",
    "if os.path.exists(\"myfile.txt\"):\n",
    "  os.remove(\"myfile.txt\")\n",
    "  print(\"myfile.txt removed\")\n",
    "else:\n",
    "  print(\"The file does not exist\")\n",
    "\n",
    "os.listdir()\n",
    "os.mkdir(\"myfolder1\")\n",
    "os.listdir()\n",
    "os.rmdir(\"myfolder1\")\n",
    "os.listdir()"
   ],
   "metadata": {
    "id": "ciE21v51q0UE"
   },
   "execution_count": null,
   "outputs": []
  },
  {
   "cell_type": "markdown",
   "source": [
    "## Python Try Except (Exception Handling)"
   ],
   "metadata": {
    "id": "4PfD4GWhrGHj"
   }
  },
  {
   "cell_type": "code",
   "source": [
    "try:\n",
    "  print(x)\n",
    "except:\n",
    "  print(\"Exception Error\")"
   ],
   "metadata": {
    "id": "SsxDCR2NrKUj"
   },
   "execution_count": null,
   "outputs": []
  },
  {
   "cell_type": "markdown",
   "source": [
    "## Python try: except: finally:"
   ],
   "metadata": {
    "id": "NJu7fakora2C"
   }
  },
  {
   "cell_type": "code",
   "source": [
    "try:\n",
    "  print(\"Hello\")\n",
    "except:\n",
    "  print(\"Exception Error\")\n",
    "finally:\n",
    "  print(\"Finally process\")"
   ],
   "metadata": {
    "id": "EtsNvOKBreBb"
   },
   "execution_count": null,
   "outputs": []
  },
  {
   "cell_type": "markdown",
   "source": [
    "## Python try: except: else:"
   ],
   "metadata": {
    "id": "SrmUIO3hroMa"
   }
  },
  {
   "cell_type": "code",
   "source": [
    "try:\n",
    "  print(\"Hello\")\n",
    "except:\n",
    "  print(\"Exception Error\")\n",
    "else:\n",
    "  print(\"No exception\")"
   ],
   "metadata": {
    "id": "L1OoAdAPrqaq"
   },
   "execution_count": null,
   "outputs": []
  },
  {
   "cell_type": "markdown",
   "source": [
    "## Python try: except: else: finally:"
   ],
   "metadata": {
    "id": "8Cv6NgFcrz15"
   }
  },
  {
   "cell_type": "code",
   "source": [
    "try:\n",
    "  print(\"Hello\")\n",
    "except:\n",
    "  print(\"Exception Error\")\n",
    "else:\n",
    "  print(\"No exception\")\n",
    "finally:\n",
    "  print(\"Finally process\")\n",
    "\n",
    "try:\n",
    "  price = float(input(\"Enter the price of the stock (e.g. 10):\"))\n",
    "  shares = int(input(\"Enter the number of shares (e.g. 2):\"))\n",
    "  total = price * shares\n",
    "except Exception as e:\n",
    "  print(\"Exception error:\", str(e))\n",
    "else:\n",
    "  print(\"The total value of the shares is:\", total)\n",
    "finally:\n",
    "  print(\"Thank you.\")\n",
    "\n",
    "try:\n",
    "  file = open(\"myfile.txt\")\n",
    "  file.write(\"Python write file\")\n",
    "  print(\"file saved\")\n",
    "except:\n",
    "  print(\"Exception file Error\")\n",
    "\n",
    "try:\n",
    "  file = open(\"myfile.txt\")\n",
    "  file.write(\"Python write file\")\n",
    "  print(\"file saved\")\n",
    "except:\n",
    "  print(\"Exception file Error\")\n",
    "finally:\n",
    "  file.close()\n",
    "  print(\"Finally process\")"
   ],
   "metadata": {
    "id": "XRzdpnu0r2Wp"
   },
   "execution_count": null,
   "outputs": []
  },
  {
   "cell_type": "markdown",
   "source": [
    "##"
   ],
   "metadata": {
    "id": "s-AyD-fkr9gy"
   }
  },
  {
   "cell_type": "markdown",
   "source": [
    "# Python, Numpy, Matplotlib và Pandas"
   ],
   "metadata": {
    "id": "1VIyY9XW_M9p"
   }
  },
  {
   "cell_type": "markdown",
   "source": [
    "## Dữ liệu kiểu chuỗi"
   ],
   "metadata": {
    "id": "7y5PFT3Z_vIf"
   }
  },
  {
   "cell_type": "code",
   "source": [
    "# chuỗi trong nó có chứa dấu nháy đơn\n",
    "name = 'matt'\n",
    "print(name)\n",
    "with_quote = \"I ain't gonna\"\n",
    "print(with_quote)\n",
    "# chuỗi có nôi dung nằm trên 2 dòng\n",
    "longer = \"\"\"This string has multiple lines in it\"\"\"\n",
    "print(longer)"
   ],
   "metadata": {
    "id": "J8WUZCN2_yB_"
   },
   "execution_count": null,
   "outputs": []
  },
  {
   "cell_type": "markdown",
   "source": [
    "## Xuất dữ liệu"
   ],
   "metadata": {
    "id": "FdsM8DWRABDg"
   }
  },
  {
   "cell_type": "code",
   "source": [
    "print(42)\n",
    "a = 3.564\n",
    "b = 3.456\n",
    "print(\"a = \", a)\n",
    "print(\"a = \\n\", a)\n",
    "print(\"a\",\"b\")\n",
    "print(\"a\",\"b\",sep=\"\")\n",
    "print(192,168,178,42,sep=\".\")\n",
    "print(\"a\",\"b\",sep=\":-)\")"
   ],
   "metadata": {
    "id": "qxcDmohNAEdQ"
   },
   "execution_count": null,
   "outputs": []
  },
  {
   "cell_type": "markdown",
   "source": [
    "## Nhập dữ liệu\n"
   ],
   "metadata": {
    "id": "4pwIeJldA_89"
   }
  },
  {
   "cell_type": "code",
   "source": [
    "name = input(\"What's your name? \")\n",
    "print(\"Nice to meet you \" + name + \"!\")\n",
    "age = input(\"Your age? \")\n",
    "print(\"You are already \" + age + \" years old, \" + name + \"!\")"
   ],
   "metadata": {
    "id": "RzSfCwatBCGU"
   },
   "execution_count": null,
   "outputs": []
  },
  {
   "cell_type": "markdown",
   "source": [
    "## Giải phương trình bậc 2"
   ],
   "metadata": {
    "id": "SXOlLdajBPCd"
   }
  },
  {
   "cell_type": "code",
   "source": [
    "a = float(input(\"A = \"))\n",
    "b = float(input(\"B = \"))\n",
    "c = float(input(\"C = \"))\n",
    "delta = b*b-4*a*c\n",
    "if delta==0:\n",
    "  print(\"Nghiem kep: x = \", str(-b/2/a))\n",
    "if delta<0:\n",
    "  print(\"Phuong trinh vo nghiem\")\n",
    "if delta>0:\n",
    "  print(\"X1 = \" + str((-b+delta**0.5)/2/a))\n",
    "  print(\"X2 = \" + str((-b-delta**0.5)/2/a))"
   ],
   "metadata": {
    "id": "QKJ9HEUNBWLH"
   },
   "execution_count": null,
   "outputs": []
  },
  {
   "cell_type": "markdown",
   "source": [
    "## Cấu trúc rẽ nhánh if-else"
   ],
   "metadata": {
    "id": "WC5Rz5XgCBQv"
   }
  },
  {
   "cell_type": "code",
   "source": [
    "name = input(\"What's your name? \")\n",
    "print(\"Nice to meet you \" + name + \"!\")\n",
    "age = int(input(\"Your age? \"))\n",
    "print(\"You are already\", age, \"years old,\",\n",
    "name, \"!\")\n",
    "if age>=18:\n",
    "  print(\"Đủ tuổi đi bầu cử\")\n",
    "  if age>100:\n",
    "    print(\"Có vẻ sai sai!\")\n",
    "else:\n",
    "  print(\"Nhỏ quá\")"
   ],
   "metadata": {
    "id": "ZH5hVjBNCF8P"
   },
   "execution_count": null,
   "outputs": []
  },
  {
   "cell_type": "markdown",
   "source": [
    "## Vòng lặp for"
   ],
   "metadata": {
    "id": "ZWzKmvkCCWh2"
   }
  },
  {
   "cell_type": "code",
   "source": [
    "for d in range(10,20): # in các số từ 10 đến 19\n",
    "  print(d)\n",
    "print(\"-----------------\")\n",
    "for d in range(20,10,-1): # in các số từ 20 đến 11\n",
    "  print(d)"
   ],
   "metadata": {
    "id": "4BaFJhnqCYze"
   },
   "execution_count": null,
   "outputs": []
  },
  {
   "cell_type": "markdown",
   "source": [
    "## Hàm"
   ],
   "metadata": {
    "id": "_sD1TYxrCl4N"
   }
  },
  {
   "cell_type": "code",
   "source": [
    "def tich(a, b = 1):\n",
    "  return a*b\n",
    "print(tich(10, 20))\n",
    "print(tich(10))\n",
    "print(tich(a=5))\n",
    "print(tich(b=6, a=5))"
   ],
   "metadata": {
    "id": "uS85kqcJCoWF"
   },
   "execution_count": null,
   "outputs": []
  },
  {
   "cell_type": "markdown",
   "source": [
    "## Kiểu chuỗi"
   ],
   "metadata": {
    "id": "4XGN808mDHAw"
   }
  },
  {
   "cell_type": "code",
   "source": [
    "# Phép nối chuỗi\n",
    "s = \"Good\" + \" \" + \"Morning!\"\n",
    "print(s)\n",
    "# Phép nhân bản\n",
    "s = \"AB\" * 3\n",
    "print(s)\n",
    "# Kiểm tra nội dung\n",
    "s in '1ABABABCD'"
   ],
   "metadata": {
    "id": "3qdYBNVQDLE2"
   },
   "execution_count": null,
   "outputs": []
  },
  {
   "cell_type": "markdown",
   "source": [
    "## Cắt chuỗi"
   ],
   "metadata": {
    "id": "cFasOkKmDf7e"
   }
  },
  {
   "cell_type": "code",
   "source": [
    "s = '0123456789'\n",
    "print(s[3:6])\n",
    "print(s[3:])\n",
    "print(s[:6])\n",
    "print(s[-7:-4])\n",
    "print(s[-4:-7])\n",
    "print(s[-4:-7:-1])\n",
    "print(s[:len(s)])\n",
    "print(s[:len(s)-1])\n",
    "print(s[:])\n",
    "print(s[len(s)::-1])\n",
    "print(s[len(s)-1::-1])\n",
    "print(s[len(s)-2::-1])"
   ],
   "metadata": {
    "id": "RnXLIyveDh5m"
   },
   "execution_count": null,
   "outputs": []
  },
  {
   "cell_type": "markdown",
   "source": [
    "## Định dạng chuỗi"
   ],
   "metadata": {
    "id": "sWqWfCrqD6XO"
   }
  },
  {
   "cell_type": "code",
   "source": [
    "myname = 'DHNTT'\n",
    "s = f'This is {myname}.'\n",
    "w = f'{s} {myname}'\n",
    "z = f'{{s}} {s}'\n",
    "print(s)\n",
    "print(w)\n",
    "print(z)\n",
    "\n",
    "# điền lần lượt từng giá trị vào giữa cặp ngoặc nhọn\n",
    "'a: {}, b: {}, c: {}'.format(1, 2, 3)\n",
    "# điền nhưng không lần lượt\n",
    "'a: {1}, b: {2}, c: {0}'.format('one', 'two', 'three')\n",
    "'two same values: {0}, {0}'.format(1, 2)\n",
    "# điền và chỉ định từng giá trị\n",
    "'1: {one}, 2: {two}'.format(one=111, two=222)\n",
    "\n",
    "# căn giữa: ' aaaa '\n",
    "'{:^10}'.format('aaaa')\n",
    "# căn lề trái: 'aaaa '\n",
    "'{:<10}'.format('aaaa')\n",
    "# căn lề phải ' aaaa'\n",
    "'{:>10}'.format('aaaa')\n",
    "# căn lề phải, thay khoảng trắng bằng -: '------aaaa'\n",
    "'{:->10}'.format('aaaa')\n",
    "# căn lề trái, thay khoảng trắng *: 'aaa******'\n",
    "'{:*<10}'.format('aaaa')\n",
    "# căn giữa, thay khoảng trắng"
   ],
   "metadata": {
    "id": "C_Jnq1XDEAL2"
   },
   "execution_count": null,
   "outputs": []
  },
  {
   "cell_type": "markdown",
   "source": [
    "## List"
   ],
   "metadata": {
    "id": "IMq9PpHtFFU5"
   }
  },
  {
   "cell_type": "code",
   "source": [
    "a = [1, 2, 3, 4, 5] # list 5 số nguyên\n",
    "b = ['a', 'b', 'c', 'd'] # list 4 chuỗi\n",
    "c = [[1, 2], [3, 4]] # list 2 list con\n",
    "d = [1, 'one', [2, 'two']] # list hỗ hợp\n",
    "e = [] # list rỗng\n",
    "\n",
    "print(a)\n",
    "print(b)\n",
    "print(c)\n",
    "print(d)\n",
    "print(e)"
   ],
   "metadata": {
    "id": "VB09J60JFL-Y"
   },
   "execution_count": null,
   "outputs": []
  },
  {
   "cell_type": "markdown",
   "source": [
    "## Tuple"
   ],
   "metadata": {
    "id": "FXQoF2rXFmFS"
   }
  },
  {
   "cell_type": "code",
   "source": [
    "a = (1, 2, 3, 4, 5) # tuple 5 số nguyên\n",
    "b = ('a', 'b', 'c', 'd') # tuple 4 chuỗi\n",
    "c = (1, 'one', [2, 'two']) # tuple hỗ hợp\n",
    "d = (1,) # tuple 1 phần tử\n",
    "e = () # tuple rỗng\n",
    "\n",
    "print(a)\n",
    "print(b)\n",
    "print(c)\n",
    "print(d)\n",
    "print(e)"
   ],
   "metadata": {
    "id": "CiFWTFkgFp2j"
   },
   "execution_count": null,
   "outputs": []
  },
  {
   "cell_type": "markdown",
   "source": [
    "## Set"
   ],
   "metadata": {
    "id": "U6xwqwfPGIM0"
   }
  },
  {
   "cell_type": "code",
   "source": [
    "my_set = {8.0, \"Sinh viên\", (1, 2, 3)}\n",
    "print(\"ketqua_Set=\",my_set)\n",
    "\n",
    "# Khởi tạo my_set\n",
    "my_set = {1,3}\n",
    "my_set.add(2) #thêm\n",
    "my_set.update([2,3,4]) # Cập nhật\n",
    "my_set.update([4,5], {1,6,8}) # Cập nhật set\n",
    "print(my_set)\n",
    "\n",
    "# Các phép toán trên Set\n",
    "a = set('abracadabra')\n",
    "b = set('alacazam')\n",
    "# Phép Hiệu: thuộc a nhưng không thuộc b\n",
    "print(a - b)\n",
    "# Phép Hợp: thuộc a hoặc b\n",
    "print(a | b)\n",
    "# Phép Giao: thuộc cả a và b\n",
    "print(a & b) # {'a', 'c'}\n",
    "# Phép Xor: thuộc hoặc a, hoặc b nhưng không phải cả 2\n",
    "print(a ^ b)\n",
    "\n",
    "# Các phương thức trong Set\n",
    "num = {1,3,5,6,8,20,7,8,29,33}\n",
    "print(\"Số lớn nhất là :\", max(num))\n",
    "\n",
    "# Vòng lặp for của Set\n",
    "setFruits = {'lemon','orange','apple','pear'}\n",
    "for x in setFruits:\n",
    "  print(x)\n",
    "\n",
    "for letter in set('chivuong'):\n",
    "  print(letter)"
   ],
   "metadata": {
    "id": "oWyCPHZyGJxz"
   },
   "execution_count": null,
   "outputs": []
  },
  {
   "cell_type": "markdown",
   "source": [
    "## Dictionary"
   ],
   "metadata": {
    "id": "ElqQzTM2HPAF"
   }
  },
  {
   "cell_type": "code",
   "source": [
    "dict = {1:'one',2:'two',3:'three'}\n",
    "print(dict[1])\n",
    "dict[4]='four'\n",
    "print(dict)\n",
    "\n",
    "l1 = [\"a\",\"b\",\"c\"]\n",
    "l2 = [1,2,3]\n",
    "c = zip(l1, l2)\n",
    "for i in c:\n",
    "  print(i)\n",
    "('a', 1)\n",
    "('b', 2)\n",
    "('c', 3)\n",
    "\n",
    "# tạo một dict với key là các số nguyên\n",
    "Dict = {1: 'Nguyen', 2: 'Van', 3: 'An'}\n",
    "print(Dict)\n",
    "\n",
    "# tạo một dict với key hỗn hợp\n",
    "Dict = {'Name': 'dict', 1: [1, 2, 3, 4]}\n",
    "print(Dict)\n",
    "\n",
    "# Thêm các giá trị vào từ điển\n",
    "Dict = {}\n",
    "# thêm các giá trị\n",
    "Dict[0] = 'Xin chao'\n",
    "Dict[1] = 'lop hoc Khoa học du lieu'\n",
    "print(Dict)\n",
    "\n",
    "# Truy cập giá trị của từ điển\n",
    "Dict = {1: 'Lớp', 2: 'Khoa học', 3: 'Dữ liệu'}\n",
    "\n",
    "# truy cập theo cách thông thường\n",
    "print(Dict[1])\n",
    "# Lớp\n",
    "\n",
    "# truy cập bằng phương thức get()\n",
    "print(Dict.get(3))\n",
    "\n",
    "# Chuyển dữ liệu thành chuỗi\n",
    "Dict = {'Ten': 'An', 'Tuoi': 20}\n",
    "print(\"Chuỗi tương đương là: %s\" % str(Dict))\n",
    "\n",
    "# Cập nhật 1 giá trị của từ điển\n",
    "Dict = {'Cúc':18, 'Lan':19, 'Hồng':20, 'Mai':27}\n",
    "Dict.update({'Lan':21}) #cập nhật tuổi cho Lan\n",
    "Dict.update({'Đào':25}) #thêm một phần tử mới là Đào\n",
    "print(Dict)"
   ],
   "metadata": {
    "id": "2UfncIZmHXNs"
   },
   "execution_count": null,
   "outputs": []
  },
  {
   "cell_type": "markdown",
   "source": [
    "## Module và Package"
   ],
   "metadata": {
    "id": "wEkLSrzoJmgM"
   }
  },
  {
   "cell_type": "code",
   "source": [
    "import numpy\n",
    "A = numpy.array([1, 2, 3])\n",
    "print(A)\n",
    "\n",
    "import numpy as np\n",
    "B = np.array([1, 2, 3])\n",
    "print(B)\n",
    "\n",
    "from numpy import array\n",
    "C = array([1, 2, 3])\n",
    "print(C)"
   ],
   "metadata": {
    "id": "3teteskAJoRU"
   },
   "execution_count": null,
   "outputs": []
  },
  {
   "cell_type": "markdown",
   "source": [
    "## Numpy"
   ],
   "metadata": {
    "id": "EXjMhGV9KP1s"
   }
  },
  {
   "cell_type": "code",
   "source": [
    "# Tạo mảng và truy cập\n",
    "import numpy as np\n",
    "\n",
    "a = np.array([1, 2, 3]) # tạo mảng 1 chiều\n",
    "print(type(a)) # in \"<class 'numpy.ndarray'>\"\n",
    "print(a.shape) # in \"(3,)\"\n",
    "print(a[0], a[1], a[2]) # in \"1 2 3\"\n",
    "a[0] = 5\n",
    "print(a) # in \"[5, 2, 3]\"\n",
    "b = np.array([[1, 2, 3],[4, 5, 6]]) # tạo mảng 2 chiều\n",
    "print(b.shape) # in \"(2, 3)\"\n",
    "print(b[0, 0], b[0, 1], b[1, 0]) # in \"1 2 4\"\n",
    "print(np.diag([1, 3, 4]))\n",
    "\n",
    "# Truy cập theo chỉ số (slicing)\n",
    "# mảng 3x4\n",
    "a = np.array([[1, 2, 3, 4], [5, 6, 7, 8], [9, 10, 11, 12]])\n",
    "# mảng 2x2 trích xuất từ a, dòng 0+1, cột 1+2\n",
    "b = a[:2, 1:3]\n",
    "print(a[0, 1]) # in \"2\"\n",
    "b[0, 0] = 77 # b[0, 0] cũng là a[0, 1]\n",
    "print(a[0, 1]) # in \"77\"\n",
    "\n",
    "row_r1 = a[1, :] # mảng 1 chiều độ dài 4\n",
    "row_r2 = a[1:2, :] # mảng 2 chiều 1x4\n",
    "print(row_r1, row_r1.shape) # in ra \"[5 6 7 8] (4,)\"\n",
    "print(row_r2, row_r2.shape) # in ra \"[[5 6 7 8]] (1, 4)\"\n",
    "col_r1 = a[:, 1] # mảng 1 chiều độ dài 3\n",
    "col_r2 = a[:, 1:2] # mảng 2 chiều 3x1\n",
    "print(col_r1, col_r1.shape) # in ra \"[ 2 6 10] (3,)\"\n",
    "print(col_r2, col_r2.shape) # in ra \"[[ 2]\n",
    "                            # [ 6]\n",
    "                            # [10]] (3, 1)\""
   ],
   "metadata": {
    "id": "6JQf_GZPKVvs"
   },
   "execution_count": null,
   "outputs": []
  },
  {
   "cell_type": "markdown",
   "source": [
    "## Các phép toán trên mảng của Numpy"
   ],
   "metadata": {
    "id": "VxFNvS3FL6-9"
   }
  },
  {
   "cell_type": "code",
   "source": [
    "import numpy as np\n",
    "x = np.array([[1, 2], [3, 4]], dtype=np.float64)\n",
    "y = np.array([[5, 6], [7, 8]], dtype=np.float64)\n",
    "print(x + y)\n",
    "print(x - y)\n",
    "print(x * y)\n",
    "print(x / y)\n",
    "print(np.sqrt(x))\n",
    "print(2**x)\n",
    "\n",
    "# Nhân ma trận(dot) với nghịch đảo\n",
    "x = np.array([[1, 2],[3, 4]])\n",
    "y = np.array([[5, 6],[7, 8]])\n",
    "v = np.array([9, 10])\n",
    "w = np.array([11, 12])\n",
    "print(v.dot(w)) # tương tự print(np.dot(v, w))\n",
    "print(x.dot(v)) # tương tự print(np.dot(x, v))\n",
    "print(x.dot(y)) # tương tự print(np.dot(x, y))\n",
    "print(np.linalg.inv(x)) # tính và in nghịch đảo của x\n",
    "\n",
    "# Ma trận chuyển vị\n",
    "x = np.array([[1, 2], [3, 4]])\n",
    "print(x) # in ra \"[[1 2]\n",
    "# [3 4]]\"\n",
    "print(x.T) # in ra \"[[1 3]\n",
    "# [2 4]]\"\n",
    "# chú ý: mảng 1 chiều không có chuyển vị\n",
    "y = np.array([1, 2, 3])\n",
    "print(y) # in ra \"[1 2 3]\"\n",
    "print(y.T) # in ra \"[1 2 3]\"\n",
    "z = np.array([[1, 2, 3]])\n",
    "print(z.T)"
   ],
   "metadata": {
    "id": "COzXSgAIMCr-"
   },
   "execution_count": null,
   "outputs": []
  },
  {
   "cell_type": "markdown",
   "source": [
    "## Đọc dữ liệu từ file"
   ],
   "metadata": {
    "id": "XKC1SD86M-R2"
   }
  },
  {
   "cell_type": "code",
   "source": [
    "from io import StringIO\n",
    "import numpy as np\n",
    "c = StringIO(\"0 1\\n2 3\")\n",
    "x = np.loadtxt(c) # array([[ 0., 1.],\n",
    "# [ 2., 3.]])\n",
    "d = StringIO(\"M 21 72\\nF 35 58\")\n",
    "y = np.loadtxt(d, dtype={'names': ('gender','age','weight'),'formats': ('S1', 'i4', 'f4')})\n",
    "print(y) # [('M', 21, 72.0), ('F', 35, 58.0)]\n",
    "\n",
    "# Cơ chế broadcasting\n",
    "x = np.array([[1, 2, 3], [4, 5, 6], [7, 8, 9], [10, 11,\n",
    "12]])\n",
    "v = np.array([1, 0, 1])\n",
    "y = x + v\n",
    "print(y)\n",
    "\n",
    "# Tính tổng theo các trục\n",
    "x = np.array([[1, 2], [3, 4]])\n",
    "\n",
    "print(np.sum(x)) # tính tổng toàn bộ x, in \"10“\n",
    "print(np.sum(x, axis=0)) # tính tổng mỗi cột, in \"[4 6]“\n",
    "print(np.sum(x, axis=1)) # tính tổng mỗi hàng, in \"[3 7]\"\n",
    "\n",
    "# Trích xuất dữ liệu theo dãy\n",
    "a = np.array([[1,2], [3, 4], [5, 6]])\n",
    "print(a[[0, 1, 2], [0, 1, 0]])\n",
    "print(np.array([a[0, 0], a[1, 1], a[2, 0]]))\n",
    "print(a[[0, 0], [1, 1]])\n",
    "print(np.array([a[0, 1], a[0, 1]]))\n",
    "\n",
    "# Lọc phần tử theo chỉ số\n",
    "a = np.array([[1, 2, 3], [4, 5, 6], [7, 8, 9], [10, 11, 12]])\n",
    "b = np.array([0, 2, 0, 1])\n",
    "print(a[np.arange(4), b])\n",
    "# cộng tất cả các phần tử được lọc thêm 10\n",
    "a[np.arange(4), b] += 10\n",
    "print(a)\n",
    "\n",
    "# Lọc dữ liệu theo điều kiện\n",
    "a = np.array([[1, 2], [3, 4], [5, 6]])\n",
    "bool_idx = (a > 2)\n",
    "print(bool_idx)\n",
    "print(a[bool_idx])\n",
    "print(a[a > 2])\n",
    "\n",
    "# Các hàm thống kê\n",
    "a = np.random.randn(3, 4)\n",
    "# tính trung bình của cả ma trận a\n",
    "print(np.mean(a))\n",
    "# tính trung vị của cột đầu tiên\n",
    "print(np.median(a[:,0]))\n",
    "# tính độ lệch chuẩn của từng dòng\n",
    "print(a.std(axis=0))\n",
    "# tính phương sai của từng cột\n",
    "print(a.var(axis=1))"
   ],
   "metadata": {
    "id": "3zZNkcVxNEJW"
   },
   "execution_count": null,
   "outputs": []
  },
  {
   "cell_type": "markdown",
   "source": [
    "## Matplotlib"
   ],
   "metadata": {
    "id": "B0to7eLxPM_d"
   }
  },
  {
   "cell_type": "markdown",
   "source": [
    "### Vẽ biểu đồ y = x^2"
   ],
   "metadata": {
    "id": "bnDXiTB4QvG6"
   }
  },
  {
   "cell_type": "code",
   "source": [
    "import numpy as np # thư viện numpy\n",
    "import matplotlib.pyplot as plt # thư viện pyplot\n",
    "\n",
    "# chia đoạn từ -20 đến 20 thành 1000 đoạn\n",
    "x = np.linspace(-20, 20, 1000)\n",
    "# tính y\n",
    "y = x * x\n",
    "# vẽ biểu đồ tương quan giữa x và y\n",
    "plt.plot(x, y)\n",
    "# hiển thị biểu đồ\n",
    "plt.show()"
   ],
   "metadata": {
    "id": "bq01rWPnQyY7"
   },
   "execution_count": null,
   "outputs": []
  },
  {
   "cell_type": "markdown",
   "source": [
    "### Vẽ biểu đồ hình sin"
   ],
   "metadata": {
    "id": "DpjU21POQ3IC"
   }
  },
  {
   "cell_type": "code",
   "source": [
    "x = np.arange(0, 3 * np.pi, 0.1)\n",
    "# tính sin tương ứng với từng phần tử của x\n",
    "y = np.sin(x)\n",
    "# vẽ biểu đồ tương quan giữa x và y\n",
    "plt.plot(x, y)\n",
    "# hiển thị biểu đồ\n",
    "plt.show()"
   ],
   "metadata": {
    "id": "kbiWehaAQ6xq"
   },
   "execution_count": null,
   "outputs": []
  },
  {
   "cell_type": "markdown",
   "source": [
    "### Vẽ biểu đồ cả SIN và COS"
   ],
   "metadata": {
    "id": "vywYoYDqREak"
   }
  },
  {
   "cell_type": "code",
   "source": [
    "x = np.arange(0, 3 * np.pi, 0.1)\n",
    "y_sin = np.sin(x)\n",
    "y_cos = np.cos(x)\n",
    "plt.plot(x, y_sin)\n",
    "plt.plot(x, y_cos)\n",
    "plt.xlabel('Trục X')\n",
    "plt.ylabel('Trục Y')\n",
    "plt.title('Hàm SIN và COS trong khoảng 0 đến 3pi')\n",
    "plt.legend(['SIN(x)', 'COS(x)'])\n",
    "plt.show()"
   ],
   "metadata": {
    "id": "LD651YK3RKVa"
   },
   "execution_count": null,
   "outputs": []
  },
  {
   "cell_type": "markdown",
   "source": [
    "### Vẽ biểu đồ dạng đường"
   ],
   "metadata": {
    "id": "-62ejUeiRfPD"
   }
  },
  {
   "cell_type": "code",
   "source": [
    "import numpy as np\n",
    "import matplotlib.pyplot as plt\n",
    "\n",
    "t = np.arange(0., 5., 0.2)\n",
    "plt.plot(t, t, 'r--', t, t**2, 'bs',\n",
    "t, t**3, 'g^')\n",
    "plt.show()"
   ],
   "metadata": {
    "id": "0L5TVNdmRiE5"
   },
   "execution_count": null,
   "outputs": []
  },
  {
   "cell_type": "markdown",
   "source": [
    "### Biểu đồ dạng cột chiều đứng"
   ],
   "metadata": {
    "id": "gRXbQky-Rtai"
   }
  },
  {
   "cell_type": "code",
   "source": [
    "import matplotlib.pyplot as plt\n",
    "D = { 'Dược học': 3000,\n",
    "'KT-NH': 900,\n",
    "'QTKD': 2000,\n",
    "'CNTT': 1200,\n",
    "'CK-Oto': 1500,\n",
    "'NN': 500 }\n",
    "plt.bar(range(len(D)), D.values(),\n",
    "align='center')\n",
    "plt.xticks(range(len(D)),\n",
    "D.keys())\n",
    "plt.title('Các ngành tuyển sinh của Đại học Nguyễn Tất Thành')\n",
    "plt.show()"
   ],
   "metadata": {
    "id": "h4fayxkMR1s9"
   },
   "execution_count": null,
   "outputs": []
  },
  {
   "cell_type": "markdown",
   "source": [
    "### Biểu đồ dạng cột chiều ngang"
   ],
   "metadata": {
    "id": "_bW-7DYsSAwt"
   }
  },
  {
   "cell_type": "code",
   "source": [
    "import matplotlib.pyplot as plt\n",
    "D = { 'Dược học': 3000,\n",
    "'KT-NH': 900,\n",
    "'QTKD': 2000,\n",
    "'CNTT': 1200,\n",
    "'CK-Oto': 1500,\n",
    "'NN': 500 }\n",
    "plt.barh(range(len(D)),\n",
    "D.values(), align='center')\n",
    "plt.xticks(range(len(D)),\n",
    "D.keys())\n",
    "plt.title('Các ngành tuyển sinh của Đại học Nguyễn Tất Thành')\n",
    "plt.show()"
   ],
   "metadata": {
    "id": "w8PKC4BWSDOd"
   },
   "execution_count": null,
   "outputs": []
  },
  {
   "cell_type": "markdown",
   "source": [
    "### Ghép 2 biểu đồ"
   ],
   "metadata": {
    "id": "1wlHxXjeSkfj"
   }
  },
  {
   "cell_type": "code",
   "source": [
    "import matplotlib.pyplot as plt\n",
    "\n",
    "plt.bar([1,3,5,7,9],[5,2,7,8,2],\n",
    "label=\"One\")\n",
    "plt.bar([2,4,6,8,10],[8,6,2,5,6], label=\"Two\", color='g')\n",
    "plt.legend()\n",
    "plt.xlabel('bar number')\n",
    "plt.ylabel('bar height')\n",
    "plt.title('Ghép 2 biểu đồ')\n",
    "plt.show()"
   ],
   "metadata": {
    "id": "1Ft-XDHVSnZL"
   },
   "execution_count": null,
   "outputs": []
  },
  {
   "cell_type": "markdown",
   "source": [
    "### Biểu đồ bánh"
   ],
   "metadata": {
    "id": "ugbJh6z-Sw0K"
   }
  },
  {
   "cell_type": "code",
   "source": [
    "import matplotlib.pyplot as plt\n",
    "D = { 'Dược học': 3000,\n",
    "'KT-NH': 900,\n",
    "'QTKD': 2000,\n",
    "'CNTT': 1200,\n",
    "'CK-Oto': 1500,\n",
    "'NN': 500 }\n",
    "plt.pie(D.values(),\n",
    "labels=D.keys(), autopct='%1.1f%%')\n",
    "plt.axis('equal') # trục x = trục y\n",
    "plt.show()"
   ],
   "metadata": {
    "id": "sAXo6NIuS4z6"
   },
   "execution_count": null,
   "outputs": []
  },
  {
   "cell_type": "markdown",
   "source": [
    "### Chia thành các biểu đồ con"
   ],
   "metadata": {
    "id": "2ZlqG2dXS948"
   }
  },
  {
   "cell_type": "code",
   "source": [
    "import numpy as np\n",
    "import matplotlib.pyplot as plt\n",
    "x = np.arange(0, 3 * np.pi, 0.1)\n",
    "y_sin = np.sin(x)\n",
    "y_cos = np.cos(x)\n",
    "plt.subplot(2, 1, 1) # biểu đồ 1\n",
    "plt.plot(x, y_sin)\n",
    "plt.title('SIN(x)')\n",
    "plt.subplot(2, 1, 2) # biểu đồ 2\n",
    "plt.plot(x, y_cos)\n",
    "plt.title('COS(x)')\n",
    "plt.show()\n",
    "\n",
    "print(\"\")\n",
    "\n",
    "x1 = np.linspace(0.0, 5.0)\n",
    "x2 = np.linspace(0.0, 2.0)\n",
    "y1 = np.cos(2 * np.pi * x1) * np.exp(-x1)\n",
    "y2 = np.cos(2 * np.pi * x2)\n",
    "plt.subplot(2, 1, 1)\n",
    "plt.plot(x1, y1, 'o-')\n",
    "plt.subplot(2, 1, 2)\n",
    "plt.plot(x2, y2, '.-')\n",
    "plt.show()"
   ],
   "metadata": {
    "id": "ZIoeinVUTCDy"
   },
   "execution_count": null,
   "outputs": []
  },
  {
   "cell_type": "markdown",
   "source": [
    "### Nạp ảnh"
   ],
   "metadata": {
    "id": "4WoOpJl4TVjK"
   }
  },
  {
   "cell_type": "code",
   "source": [
    "import matplotlib.pyplot as plt\n",
    "import matplotlib.image as mpimg\n",
    "\n",
    "# Đọc ảnh từ Google Drive\n",
    "image = mpimg.imread('/content/drive/MyDrive/DataAnalysis/hoahong.jpg')\n",
    "\n",
    "fig, axs = plt.subplots(2, 2,\n",
    "figsize=(5, 5))\n",
    "axs[0, 0].imshow(image)\n",
    "axs[1, 0].imshow(image)\n",
    "axs[0, 1].imshow(image)\n",
    "axs[1, 1].imshow(image)\n",
    "plt.show()\n"
   ],
   "metadata": {
    "id": "TdDrFvh7TY8q"
   },
   "execution_count": null,
   "outputs": []
  },
  {
   "cell_type": "markdown",
   "source": [
    "### Lưu biểu đồ ra file"
   ],
   "metadata": {
    "id": "K_g_1J5hWj72"
   }
  },
  {
   "cell_type": "code",
   "source": [
    "import matplotlib.pyplot as plt\n",
    "import matplotlib.image as mpimg\n",
    "\n",
    "image = mpimg.imread('/content/drive/MyDrive/DataAnalysis/hoahong.jpg')\n",
    "fig, axs = plt.subplots(2, 2, figsize=(5, 5))\n",
    "axs[0, 0].imshow(image)\n",
    "axs[1, 0].imshow(image)\n",
    "axs[0, 1].imshow(image)\n",
    "axs[1, 1].imshow(image)\n",
    "\n",
    "plt.savefig('1.jpg')\n",
    "plt.savefig('1.pdf')"
   ],
   "metadata": {
    "id": "bCaKiYhFWnSU"
   },
   "execution_count": null,
   "outputs": []
  },
  {
   "cell_type": "markdown",
   "source": [
    "## Panda"
   ],
   "metadata": {
    "id": "LjBTKYCUW_Dh"
   }
  },
  {
   "cell_type": "markdown",
   "source": [
    "### Tạo dữ liệu series"
   ],
   "metadata": {
    "id": "XHubyTh9Xc3n"
   }
  },
  {
   "cell_type": "code",
   "source": [
    "import pandas as pd\n",
    "import numpy as np\n",
    "\n",
    "S = pd.Series(np.random.randint(100, size = 4))\n",
    "print(S)\n",
    "print(S.index)\n",
    "print(S.values)\n",
    "\n",
    "print(\"\")\n",
    "\n",
    "chi_so = [\"Ke toan\", \"KT\", \"CNTT\", \"Co khi\"]\n",
    "gia_tri = [310, 360, 580, 340]\n",
    "S = pd.Series(gia_tri, index=chi_so)\n",
    "print(S)\n",
    "print(S.index)\n",
    "print(S.values)\n",
    "\n",
    "print(\"\")\n",
    "\n",
    "chi_so = [\"KT\", \"KT\", \"CNTT\", \"Co khi\"] # trùng nhau\n",
    "gia_tri = [310, 360, 580, 340]\n",
    "S = pd.Series(gia_tri, index=chi_so)\n",
    "print(S)\n",
    "print(S.index)\n",
    "print(S.values)"
   ],
   "metadata": {
    "id": "vsjkJSTFXiPl"
   },
   "execution_count": null,
   "outputs": []
  },
  {
   "cell_type": "markdown",
   "source": [
    "### Truy vấn dữ liệu thông qua chỉ số"
   ],
   "metadata": {
    "id": "ZAIAcsOoX01F"
   }
  },
  {
   "cell_type": "code",
   "source": [
    "import pandas as pd\n",
    "import numpy as np\n",
    "\n",
    "chi_so = [\"KT\", \"KT\", \"CNTT\", \"Co khi\"] # trùng nhau\n",
    "gia_tri = [310, 360, 580, 340]\n",
    "S = pd.Series(gia_tri, index=chi_so)\n",
    "print(S['Co khi'])\n",
    "print(S['KT'])\n",
    "print(S.CNTT)"
   ],
   "metadata": {
    "id": "lwRTIHGwX63N"
   },
   "execution_count": null,
   "outputs": []
  },
  {
   "cell_type": "markdown",
   "source": [
    "### Phép toán trên series"
   ],
   "metadata": {
    "id": "myQdNEWUX_G2"
   }
  },
  {
   "cell_type": "code",
   "source": [
    "import pandas as pd\n",
    "import numpy as np\n",
    "\n",
    "chi_so = [\"Ke toan\", \"KT\", \"CNTT\", \"Co khi\"]\n",
    "gia_tri = [310, 360, 580, 340]\n",
    "# chỉ số giống nhau thì tính gộp, nếu không thì NaN\n",
    "S = pd.Series(gia_tri, index=chi_so)\n",
    "P = pd.Series([100, 100], ['CNTT','PM'])\n",
    "Y = S + P\n",
    "print(Y)"
   ],
   "metadata": {
    "id": "sYyju3IDYDOd"
   },
   "execution_count": null,
   "outputs": []
  },
  {
   "cell_type": "markdown",
   "source": [
    "### Làm việc với dataframe"
   ],
   "metadata": {
    "id": "gMuKEf1wYWft"
   }
  },
  {
   "cell_type": "markdown",
   "source": [
    "#### Tạo dataframe từ list"
   ],
   "metadata": {
    "id": "U8WSPylqYzzs"
   }
  },
  {
   "cell_type": "code",
   "source": [
    "crimes_rates = {\n",
    "\"Year\":[1960,1961,1962,1963,1964],\n",
    "\"Population\":[179323175,182992000,185771000,188483000,191141000],\n",
    "\"Total\":[3384200,3488000,3752200,4109500,4564600],\n",
    "\"Violent\":[288460,289390,301510,316970,364220]\n",
    "}\n",
    "crimes_dataframe = pd.DataFrame(crimes_rates)\n",
    "print(crimes_dataframe)"
   ],
   "metadata": {
    "id": "YcXE5CYSY3bl"
   },
   "execution_count": null,
   "outputs": []
  },
  {
   "cell_type": "markdown",
   "source": [
    "#### Tạo dataframe từ list các dictionary"
   ],
   "metadata": {
    "id": "xJanwZZvY5Zm"
   }
  },
  {
   "cell_type": "code",
   "source": [
    "data = [\n",
    "{'MIT': 5000, 'Stanford': 4500, \"DHTL\":15000},\n",
    "{'MIT': 1, 'Stanford': 2, \"DHTL\":200}\n",
    "]\n",
    "df = pd.DataFrame(data, index=['NumOfStudents', \"ranking\"])\n",
    "print(df)\n",
    "print(df.DHTL.dtype)"
   ],
   "metadata": {
    "id": "ToqtUACoY8q1"
   },
   "execution_count": null,
   "outputs": []
  },
  {
   "cell_type": "markdown",
   "source": [
    "#### Tạo dataframe từ dictionary serias"
   ],
   "metadata": {
    "id": "BCknK1PeZB4F"
   }
  },
  {
   "cell_type": "code",
   "source": [
    "data = {\n",
    "\"one\": pd.Series([1,23,45], index = [1,2,3]),\n",
    "\"two\": pd.Series([1000,2400,1132,3434], index =[1,2,3,4])\n",
    "}\n",
    "df = pd.DataFrame(data)\n",
    "print(df)"
   ],
   "metadata": {
    "id": "D_AKYZcfZEQc"
   },
   "execution_count": null,
   "outputs": []
  },
  {
   "cell_type": "markdown",
   "source": [
    "#### Đọc dữ liệu từ file .csv"
   ],
   "metadata": {
    "id": "LdWAklULZIME"
   }
  },
  {
   "cell_type": "code",
   "source": [
    "csv_text = \"\"\"country,capital,area,population\n",
    "Brazil,Brasilia,8516,200\n",
    "Russia,Moscow,17098,144\n",
    "India,New Delhi,3287,1380\n",
    "China,Beijing,9597,1402\n",
    "South Africa,Pretoria,1221,59\n",
    "\"\"\"\n",
    "with open(path, \"w\", encoding=\"utf-8\", newline=\"\") as f:\n",
    "    f.write(csv_text)\n",
    "\n",
    "import pandas as pd\n",
    "d = pd.read_csv(path)\n",
    "print(d)\n"
   ],
   "metadata": {
    "id": "wqT2yGl6ZKHF"
   },
   "execution_count": null,
   "outputs": []
  },
  {
   "cell_type": "markdown",
   "source": [
    "#### Xóa dòng hoặc cột bằng drop"
   ],
   "metadata": {
    "id": "8IZyNVGDavmI"
   }
  },
  {
   "cell_type": "code",
   "source": [
    "# tạo ra dataframe mới bằng cách xóa 2 cột\n",
    "print(d.drop([\"area\", \"population\"], axis=1))\n",
    "# trường hợp muốn xóa trên d, thêm tham số inplace=True\n",
    "d.drop([\"area\", \"population\"], axis=1, inplace=True)\n",
    "print(d)"
   ],
   "metadata": {
    "id": "WWfquztxa3zZ"
   },
   "execution_count": null,
   "outputs": []
  },
  {
   "cell_type": "markdown",
   "source": [
    "#### Kết hợp giữa pandas và matplotlib"
   ],
   "metadata": {
    "id": "H8NXggd2bMVY"
   }
  },
  {
   "cell_type": "code",
   "source": [
    "import pandas as pd\n",
    "import matplotlib.pyplot as plt\n",
    "\n",
    "path = \"/content/drive/MyDrive/DataAnalysis/brics.csv\"\n",
    "d = pd.read_csv(path, index_col=0)\n",
    "\n",
    "d.area.plot(kind='bar')\n",
    "plt.show()\n"
   ],
   "metadata": {
    "id": "AbQK4hfcbQAp"
   },
   "execution_count": null,
   "outputs": []
  },
  {
   "cell_type": "markdown",
   "source": [
    "# Data Analytics and Visualization with Python"
   ],
   "metadata": {
    "id": "0_0E72UPALEj"
   }
  },
  {
   "cell_type": "markdown",
   "source": [
    "## Python Finance Application with Pandas"
   ],
   "metadata": {
    "id": "_2seNtVWAt7k"
   }
  },
  {
   "cell_type": "code",
   "source": [
    "import pandas as pd\n",
    "# Create a DataFrame to store transactions\n",
    "columns = ['Date', 'Description', 'Amount']\n",
    "ledger = pd.DataFrame(columns=columns)\n",
    "# Function to add a transaction\n",
    "def add_transaction(date, description, amount):\n",
    "  global ledger\n",
    "  new_transaction = pd.DataFrame([[date, description, amount]], columns=columns)\n",
    "  ledger = pd.concat([ledger, new_transaction], ignore_index=True)\n",
    "# Function to view the ledger\n",
    "def view_ledger():\n",
    "  print(ledger)\n",
    "# Function to get the current balance\n",
    "def get_balance():\n",
    "  return ledger['Amount'].sum()\n",
    "# Adding sample transactions\n",
    "add_transaction('2023-11-01', 'Income', 1000)\n",
    "add_transaction('2023-11-02', 'Groceries', -200)\n",
    "add_transaction('2023-11-03', 'Utilities', -100)\n",
    "# Viewing the ledger\n",
    "view_ledger()\n",
    "# Checking the current balance\n",
    "print(\"Current Balance:\", get_balance())"
   ],
   "metadata": {
    "id": "ctXNB43pAwB0"
   },
   "execution_count": null,
   "outputs": []
  },
  {
   "cell_type": "markdown",
   "source": [
    "# Kết thúc"
   ],
   "metadata": {
    "id": "cfICH0HvBDny"
   }
  },
  {
   "cell_type": "code",
   "source": [
    "# (đảm bảo đang ở thư mục repo)\n",
    "!git status\n",
    "\n",
    "# add file sạch (hoặc add tất cả nếu bạn muốn)\n",
    "!git add DataAnalysis/Buoi2.ipynb\n",
    "!git commit -m \"Clean Buoi2.ipynb (remove leaked token)\"\n",
    "!git push origin main\n"
   ],
   "metadata": {
    "colab": {
     "base_uri": "https://localhost:8080/"
    },
    "id": "3ZcIg3INVP0K",
    "executionInfo": {
     "status": "ok",
     "timestamp": 1757922266932,
     "user_tz": -420,
     "elapsed": 757,
     "user": {
      "displayName": "Trần Lê Đăng Khoa",
      "userId": "03567982619792340305"
     }
    },
    "outputId": "627a45ca-5d34-48c7-901a-1e106362aa62"
   },
   "execution_count": null,
   "outputs": []
  },
  {
   "cell_type": "code",
   "source": [
    "!rm -rf DataAnalysis/DataAnalysis\n",
    "!git status\n"
   ],
   "metadata": {
    "colab": {
     "base_uri": "https://localhost:8080/"
    },
    "id": "2JlTQWvbV32x",
    "executionInfo": {
     "status": "ok",
     "timestamp": 1757922428234,
     "user_tz": -420,
     "elapsed": 231,
     "user": {
      "displayName": "Trần Lê Đăng Khoa",
      "userId": "03567982619792340305"
     }
    },
    "outputId": "5c820da4-c02e-4eaa-f19d-08b5bdd5c1a8"
   },
   "execution_count": null,
   "outputs": []
  },
  {
   "cell_type": "code",
   "source": [
    "!git add DataAnalysis/Buoi2.ipynb\n",
    "!git commit -m \"Clean Buoi2.ipynb (scrub secrets & clear outputs)\"\n",
    "!git push origin main\n",
    "\n"
   ],
   "metadata": {
    "colab": {
     "base_uri": "https://localhost:8080/"
    },
    "id": "evz7IIWSWOk4",
    "executionInfo": {
     "status": "ok",
     "timestamp": 1757922997314,
     "user_tz": -420,
     "elapsed": 1340,
     "user": {
      "displayName": "Trần Lê Đăng Khoa",
      "userId": "03567982619792340305"
     }
    },
    "outputId": "caeeb83a-83d2-443b-8859-1dcdac62a807"
   },
   "execution_count": null,
   "outputs": []
  },
  {
   "cell_type": "code",
   "source": [
    "!git fetch origin\n",
    "!git checkout main\n",
    "!git reset --hard origin/main\n",
    "!git log --oneline -5\n"
   ],
   "metadata": {
    "colab": {
     "base_uri": "https://localhost:8080/"
    },
    "id": "j-5RLRxVYE6J",
    "executionInfo": {
     "status": "ok",
     "timestamp": 1757923064348,
     "user_tz": -420,
     "elapsed": 758,
     "user": {
      "displayName": "Trần Lê Đăng Khoa",
      "userId": "03567982619792340305"
     }
    },
    "outputId": "94d78cc3-d468-493f-e4c8-ec77985ceb91"
   },
   "execution_count": null,
   "outputs": []
  }
 ]
}
