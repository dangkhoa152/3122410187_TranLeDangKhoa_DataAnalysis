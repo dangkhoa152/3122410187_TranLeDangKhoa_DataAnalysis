{
  "cells": [
    {
      "cell_type": "markdown",
      "metadata": {
        "id": "view-in-github",
        "colab_type": "text"
      },
      "source": [
        "<a href=\"https://colab.research.google.com/github/dangkhoa152/3122410187_TranLeDangKhoa_DataAnalysis/blob/main/04_exercise_02.ipynb\" target=\"_parent\"><img src=\"https://colab.research.google.com/assets/colab-badge.svg\" alt=\"Open In Colab\"/></a>"
      ]
    },
    {
      "cell_type": "markdown",
      "id": "154c8525-a8b1-4532-8b8c-a6048596e61b",
      "metadata": {
        "id": "154c8525-a8b1-4532-8b8c-a6048596e61b"
      },
      "source": [
        "# Kỹ thuật lập trình Python"
      ]
    },
    {
      "cell_type": "markdown",
      "id": "bff7ceae-0971-41e5-9ad6-a25c303fecab",
      "metadata": {
        "id": "bff7ceae-0971-41e5-9ad6-a25c303fecab"
      },
      "source": [
        "## Làm quen với Numpy"
      ]
    },
    {
      "cell_type": "markdown",
      "id": "bda2fb69-42db-4a12-8b57-7b4815510961",
      "metadata": {
        "id": "bda2fb69-42db-4a12-8b57-7b4815510961"
      },
      "source": [
        "### Bài 1. Tính toán trên dãy số"
      ]
    },
    {
      "cell_type": "markdown",
      "id": "04e6a456-6793-4645-b159-426121c860a6",
      "metadata": {
        "id": "04e6a456-6793-4645-b159-426121c860a6"
      },
      "source": [
        "#### 1. Tạo một dãy số a có N phần tử (N = 10)"
      ]
    },
    {
      "cell_type": "code",
      "execution_count": 2,
      "id": "bac1a84b-a496-40c6-962e-97c0acaf7d8e",
      "metadata": {
        "colab": {
          "base_uri": "https://localhost:8080/"
        },
        "id": "bac1a84b-a496-40c6-962e-97c0acaf7d8e",
        "outputId": "3c640aea-de4b-4b5a-88f2-71797ce8097c"
      },
      "outputs": [
        {
          "output_type": "stream",
          "name": "stdout",
          "text": [
            "1. Tạo một dãy số a có N phần tử (N = 10)\n",
            "Day so a:  [ 1  2  3  4  5  6  7  8  9 10]\n"
          ]
        }
      ],
      "source": [
        "import numpy as np # Khai báo thư viện numpy\n",
        "\n",
        "print(\"1. Tạo một dãy số a có N phần tử (N = 10)\")\n",
        "\"\"\" CÁC BẠN LÀM BÀI Ở ĐÂY \"\"\"\n",
        "# ...\n",
        "N = 10\n",
        "a = np.arange(1, N+1)\n",
        "print(\"Day so a: \", a)"
      ]
    },
    {
      "cell_type": "markdown",
      "id": "4d85d8e2-16ff-42d1-acda-97e62736aaf6",
      "metadata": {
        "id": "4d85d8e2-16ff-42d1-acda-97e62736aaf6"
      },
      "source": [
        "#### 2. Các thao tác trên dãy số a\n",
        "(a) Bình phương các phần tử trong dãy số <br/>\n",
        "(b) Tìm số lượng các phần tử của dãy số <br/>\n",
        "(c) In ra giá trị lớn nhất, giá trị nhỏ nhất và giá trị trung bình <br/>\n",
        "(d) Tính phương sai của dãy số $\\sigma^2 = \\frac{\\sum{\\left(a_i - \\mu\\right)^2}}{N - 1}$ với $\\mu = \\frac{\\sum{a_i}}{N}$ và độ lệch chuẩn $var = \\sqrt{\\sigma^2}$"
      ]
    },
    {
      "cell_type": "code",
      "execution_count": 3,
      "id": "5d245b5b-90d5-48bf-b870-fc7c2deecd12",
      "metadata": {
        "colab": {
          "base_uri": "https://localhost:8080/"
        },
        "id": "5d245b5b-90d5-48bf-b870-fc7c2deecd12",
        "outputId": "4ca35bec-f6cf-4af1-88d2-a6fc761a8ec9"
      },
      "outputs": [
        {
          "output_type": "stream",
          "name": "stdout",
          "text": [
            "2. Các thao tác tính toán đơn giản với dãy số a\n",
            "a. Binh phuong a:  [np.int64(1), np.int64(4), np.int64(9), np.int64(16), np.int64(25), np.int64(36), np.int64(49), np.int64(64), np.int64(81), np.int64(100)]\n",
            "\n",
            "b. Do dai a:  10\n",
            "\n",
            "c. Gia tri lon nhat: [10], gia tri nho nhat: [1], gia tri trung binh [5.5]\n",
            "\n",
            "d. Phuong sai: [ 9.17] va do lech chuan: [ 3.03]\n"
          ]
        }
      ],
      "source": [
        "print(\"2. Các thao tác tính toán đơn giản với dãy số a\")\n",
        "a2 = [ x **2 for x in a]\n",
        "print(\"a. Binh phuong a: \", a2)\n",
        "\n",
        "na = len(a)\n",
        "print(\"\\nb. Do dai a: \", na)\n",
        "\n",
        "v_max = max(a)\n",
        "v_min = min(a)\n",
        "v_avg = sum(a) / na\n",
        "print(f'\\nc. Gia tri lon nhat: [{v_max}], gia tri nho nhat: [{v_min}], gia tri trung binh [{v_avg}]')\n",
        "\n",
        "v_sigma2 = sum([(x - v_avg) ** 2 for x in a]) / (na - 1)\n",
        "v_var = np.sqrt(v_sigma2)\n",
        "print(f'\\nd. Phuong sai: [{v_sigma2: .2f}] va do lech chuan: [{v_var: .2f}]')"
      ]
    },
    {
      "cell_type": "markdown",
      "id": "1b582e22-cc99-4933-892b-e0d83672fb7f",
      "metadata": {
        "id": "1b582e22-cc99-4933-892b-e0d83672fb7f"
      },
      "source": [
        "#### 3. Toán tử trên hai dãy số\n",
        "(a) Tạo dãy số x có 10 phần tử từ 1 đến 10 (dùng hàm np.arange) <br/>\n",
        "(b) Liệt kê và đếm số lượng phần tử chẵn và lẻ có trong dãy a và x <br/>\n",
        "(c) Tính khoảng cách giữa các phần tử ở vị trí lẻ của mảng a và x với $s = \\sqrt{\\sum{\\left(a_i - x_i\\right)^2}}$ với $i$ lẻ<br/>\n",
        "(d) Tìm khoảng cách nhỏ nhất giữa tập a và x. Ví dụ: min({1, 3, 5}, {2, 10, 8}} = 1"
      ]
    },
    {
      "cell_type": "code",
      "execution_count": 4,
      "id": "1c6f51c1-ac3d-46a8-ab35-0d087877fb9d",
      "metadata": {
        "colab": {
          "base_uri": "https://localhost:8080/"
        },
        "id": "1c6f51c1-ac3d-46a8-ab35-0d087877fb9d",
        "outputId": "e92d03bb-bfff-4101-df4a-8a0a6a207d4c"
      },
      "outputs": [
        {
          "output_type": "stream",
          "name": "stdout",
          "text": [
            "3. Xử lý khác trên dãy số\n",
            "a. Day so x: [ 1  2  3  4  5  6  7  8  9 10]\n"
          ]
        }
      ],
      "source": [
        "import numpy as np\n",
        "\n",
        "print(\"3. Xử lý khác trên dãy số\")\n",
        "x = np.arange(1,11)\n",
        "# ...\n",
        "\n",
        "print(f'a. Day so x: {x}')"
      ]
    },
    {
      "cell_type": "code",
      "execution_count": 5,
      "id": "13211d38-0008-49ba-ac7b-c4ea034d12f4",
      "metadata": {
        "colab": {
          "base_uri": "https://localhost:8080/"
        },
        "id": "13211d38-0008-49ba-ac7b-c4ea034d12f4",
        "outputId": "bfb9acfa-1097-413a-a233-f277ce8e8fab"
      },
      "outputs": [
        {
          "output_type": "stream",
          "name": "stdout",
          "text": [
            "b. Cac phan tu chan trong day a, b: \n",
            "+ Day a: [8, 3, 0, 10, 10, 6, 5, 0, 7, 3]\n",
            "  - Loc chan: [8, 0, 10, 10, 6, 0]\n",
            "  - Day chua phan tu chan trong a: [8, 0, 10, 10, 6, 0], so luong 6 phan tu.\n",
            "+ Day x: [ 1  2  3  4  5  6  7  8  9 10]\n",
            "  - Loc chan: [np.int64(2), np.int64(4), np.int64(6), np.int64(8), np.int64(10)]\n",
            "  - Day chua phan tu chan trong a: [np.int64(2), np.int64(4), np.int64(6), np.int64(8), np.int64(10)], so luong 5 phan tu.\n"
          ]
        }
      ],
      "source": [
        "import numpy as np\n",
        "import random\n",
        "n = 10\n",
        "a = [random.randint(0, 10) for _ in range(n)]\n",
        "\n",
        "a_la_chan = [i for i in a if i % 2 == 0]\n",
        "a_la_le = [i for i in a if i % 2 != 0]\n",
        "x_la_chan = [i for i in x if i % 2 == 0]\n",
        "x_la_le = [i for i in x if i % 2 != 0]\n",
        "\n",
        "n_a_chan = len(a_la_chan)\n",
        "n_a_le = len(a_la_le)\n",
        "n_x_chan = len(x_la_chan)\n",
        "n_x_le = len(x_la_le)\n",
        "\n",
        "print( \"b. Cac phan tu chan trong day a, b: \")\n",
        "print(f\"+ Day a: {a}\")\n",
        "print(f\"  - Loc chan: {a_la_chan}\")\n",
        "print(f\"  - Day chua phan tu chan trong a: {a_la_chan}, so luong {n_a_chan} phan tu.\")\n",
        "print(f\"+ Day x: {x}\")\n",
        "print(f\"  - Loc chan: {x_la_chan}\")\n",
        "print(f\"  - Day chua phan tu chan trong a: {x_la_chan}, so luong {n_x_chan} phan tu.\")"
      ]
    },
    {
      "cell_type": "code",
      "execution_count": null,
      "id": "1d441e53-26ad-45ff-a6d4-6abbb9c66f65",
      "metadata": {
        "id": "1d441e53-26ad-45ff-a6d4-6abbb9c66f65",
        "outputId": "8f0df6ef-07b4-48d8-ad91-5ee5e1813246"
      },
      "outputs": [
        {
          "name": "stdout",
          "output_type": "stream",
          "text": [
            "c.Tính hiệu các phần tử ở vị trí lẻ của mảng a và x: \n",
            "+ Vi tri le trong a va x: [1, 3, 5, 7, 9]\n",
            "+ Day so a: [120 183 160 175 145 162 190 160 152 162] va cac so o vi tri le: [183 175 162 160 162]\n",
            "+ Day so x: [ 1  2  3  4  5  6  7  8  9 10] va cac so o vi tri le: [ 2  4  6  8 10]\n",
            "+ Hieu cua a va x o vi tri le: [181 171 156 152 152]\n",
            "+ Khoang cach cac phan tu cua a va x o vi tri le:  364.07\n"
          ]
        }
      ],
      "source": [
        "a_le = a[1::2]\n",
        "x_le = x[1::2]\n",
        "hieu_le = np.array(a_le) - np.array(x_le)\n",
        "print( \"c.Tính hiệu các phần tử ở vị trí lẻ của mảng a và x: \", hieu_le)\n",
        "\n",
        "v_le = [i for i in range(n) if i %2 ==1 ]\n",
        "print(f\"+ Vi tri le trong a va x: {v_le}\")\n",
        "print(f\"+ Day so a: {a} va cac so o vi tri le: {a_le}\")\n",
        "print(f\"+ Day so x: {x} va cac so o vi tri le: {x_le}\")\n",
        "print(f\"+ Hieu cua a va x o vi tri le: {hieu_le}\")\n",
        "\n",
        "kc_le = np.sqrt(np.sum((np.array(a_le) - np.array(x_le))**2))\n",
        "print(f\"+ Khoang cach cac phan tu cua a va x o vi tri le: {kc_le: .2f}\")"
      ]
    },
    {
      "cell_type": "code",
      "execution_count": null,
      "id": "92f5e91d-e213-4146-b873-0d2936c6990e",
      "metadata": {
        "id": "92f5e91d-e213-4146-b873-0d2936c6990e",
        "outputId": "e765411a-a72b-4ed5-eb1e-795587345655"
      },
      "outputs": [
        {
          "name": "stdout",
          "output_type": "stream",
          "text": [
            "d. Tìm khoảng cách nhỏ nhất giữa tập a và x. Ví dụ: min({1, 3, 5}, {2, 10, 8}} = 1\n",
            "+ Day a: [120 183 160 175 145 162 190 160 152 162]\n",
            "+ Day x: [ 1  2  3  4  5  6  7  8  9 10]\n",
            "+ Khoang cach nho nhat: 110\n"
          ]
        }
      ],
      "source": [
        "print(\"d. Tìm khoảng cách nhỏ nhất giữa tập a và x. Ví dụ: min({1, 3, 5}, {2, 10, 8}} = 1\")\n",
        "\"\"\"\n",
        "Gợi ý: Áp dụng toán tử broatcasting\n",
        "[[1],                    [[1, 1, 1],        [[2, 10, 8],    =   [[-1, -9, -7],\n",
        " [3],   - [2, 10, 8] =    [3, 3, 3],   -     [2, 10, 8],         [ 1, -7, -5],  --> np.min(np.abs(...)) = 1\n",
        " [5]]                     [5, 5, 5]]         [2, 10, 8]]         [ 3, -5, -3]]\n",
        "\"\"\"\n",
        "# Tăng số chiều dùng tại vị trí chiều cuối dùng np.newaxis như sau: a[:, np.newaxis]\n",
        "a_np = np.array(a)\n",
        "dist_matrix = np.abs(a_np[:, np.newaxis] - x)\n",
        "v_min = np.min(dist_matrix)\n",
        "print(f\"+ Day a: {a}\")\n",
        "print(f\"+ Day x: {x}\")\n",
        "print(f\"+ Khoang cach nho nhat: {v_min}\")"
      ]
    },
    {
      "cell_type": "markdown",
      "id": "d18845b8-0d51-4666-ba1c-5ff836ef3d54",
      "metadata": {
        "id": "d18845b8-0d51-4666-ba1c-5ff836ef3d54"
      },
      "source": [
        "#### 4. Sinh ngẫu nhiên dãy số\n",
        "(a) Sinh ngẫu nhiên dãy số có 100 phần tử theo phân bố đều với giá trị trong đoạn [1, 10] và vẽ đồ thị tần số xuất hiện <br/>\n",
        "(b) Sinh ngẫu nhiên N diem (x, y) với y là hàm phân phối chuẩn $N(\\mu = 1, \\sigma^2 = 1.0)$: <br/>\n",
        " $$\n",
        " y = f\\left(x| \\mu, \\sigma\\right) = \\frac{1}{\\sigma\\sqrt{2\\pi}}exp\\left(-\\frac{\\left(x - \\mu\\right)^2}{2\\sigma^2}\\right)\n",
        " $$\n",
        " nơi mà $x \\in [\\mu - 5\\sigma, \\mu + 5\\sigma]$ <br/>\n",
        " (c) Sinh ngẫu nhiên dãy số có 100000 phần tử theo phân bố chuẩn $N(\\mu = 1, \\sigma^2 = 1.0)$ và vẽ đồ thị tần số xuất hiện <br/> <br/>"
      ]
    },
    {
      "cell_type": "code",
      "execution_count": 6,
      "id": "4d35cd9c-3163-486e-baef-63180ff2f5b6",
      "metadata": {
        "colab": {
          "base_uri": "https://localhost:8080/",
          "height": 591
        },
        "id": "4d35cd9c-3163-486e-baef-63180ff2f5b6",
        "outputId": "cabcd9c7-e3a2-466f-8331-37ad22432e5d"
      },
      "outputs": [
        {
          "output_type": "stream",
          "name": "stdout",
          "text": [
            "a. Sinh ngẫu nhiên theo phân bố đều\n",
            "+ Gia tri: [ 1  2  3  4  5  6  7  8  9 10]\n",
            "+ So lan xuat hien: [ 8 12  9  9  8  6 14 16  8 10]\n",
            "+ Do thi ham so xuat hien\n"
          ]
        },
        {
          "output_type": "display_data",
          "data": {
            "text/plain": [
              "<Figure size 600x600 with 1 Axes>"
            ],
            "image/png": "[encoded data removed]"
          },
          "metadata": {}
        }
      ],
      "source": [
        "import matplotlib.pyplot as plt  # Khai báo thư viện pyplot trong matplotlib\n",
        "import numpy as np\n",
        "a = np.random.randint(1, 11, size=100)\n",
        "value, cnt = np.unique(a, return_counts=True)\n",
        "\n",
        "print(\"a. Sinh ngẫu nhiên theo phân bố đều\")\n",
        "print(f\"+ Gia tri: {value}\")\n",
        "print(f\"+ So lan xuat hien: {cnt}\")\n",
        "print(\"+ Do thi ham so xuat hien\")\n",
        "plt.figure(figsize=(6,6))      #  kich thuoc ban ve\n",
        "plt.bar(value, cnt)            #  ve cac khoi chu nhat theo day x, y\n",
        "plt.xlim(0, 11)                #  gioi han truc x\n",
        "plt.ylim(0, np.max(cnt) + 10)  #  gioi han truc y\n",
        "plt.savefig(\"4a.png\")          #  luu do thi\n",
        "plt.show()                     #  hien thi do thi"
      ]
    },
    {
      "cell_type": "code",
      "execution_count": 7,
      "id": "55c99911-a213-4961-85b7-2ef09b775945",
      "metadata": {
        "colab": {
          "base_uri": "https://localhost:8080/",
          "height": 574
        },
        "id": "55c99911-a213-4961-85b7-2ef09b775945",
        "outputId": "29fcbe39-3d02-4a79-f142-3e6074924412"
      },
      "outputs": [
        {
          "output_type": "stream",
          "name": "stdout",
          "text": [
            "b. Sinh cặp (x, y) với y làm hàm phân phối chuẩn\n",
            "+ x: -4 <= min [-3.93] <= max [ 5.94] <= 6\n",
            "+ Ve ham so y(x)\n"
          ]
        },
        {
          "output_type": "display_data",
          "data": {
            "text/plain": [
              "<Figure size 600x600 with 1 Axes>"
            ],
            "image/png": "[encoded data removed]"
          },
          "metadata": {}
        }
      ],
      "source": [
        "\"\"\" CÁC BẠN LÀM BÀI Ở ĐÂY \"\"\"\n",
        "# Sử dụm hàm np.random.rand() sinh số ngẫu nhiên trong [0,1) --> [0,1) * (b - a) + a --> [a, b)\n",
        "# Sử dụng hàm sau để tính hàm xác suất chuẩn N(m, s): np.sqrt, np.exp\n",
        "# ...\n",
        "mu, sigma = 1, 1   # trung bình = 1, độ lệch chuẩn = 1\n",
        "N = 200            # số điểm\n",
        "\n",
        "# Sinh ngẫu nhiên N điểm x trong đoạn [mu - 5σ, mu + 5σ]\n",
        "x_min, x_max = mu - 5*sigma, mu + 5*sigma\n",
        "x = np.random.rand(N) * (x_max - x_min) + x_min  # scale về đoạn [x_min, x_max]\n",
        "\n",
        "# Tính y = hàm mật độ phân phối chuẩn\n",
        "y = (1/(sigma*np.sqrt(2*np.pi))) * np.exp(-((x - mu)**2) / (2*sigma**2))\n",
        "\n",
        "\n",
        "print(\"b. Sinh cặp (x, y) với y làm hàm phân phối chuẩn\")\n",
        "print(f\"+ x: {x_min} <= min [{np.min(x): .2f}] <= max [{np.max(x): .2f}] <= {x_max}\")\n",
        "print(f\"+ Ve ham so y(x)\")\n",
        "plt.figure(figsize=(6,6))      # kich thuoc ban ve\n",
        "plt.scatter(x, y)              # ve cac diem (xi, yi)\n",
        "plt.savefig(\"4b.png\")          #  luu do thi\n",
        "plt.show()                     #  hien thi do thi"
      ]
    },
    {
      "cell_type": "code",
      "execution_count": 8,
      "id": "0b4cf743-6afa-47da-8d3e-61f84623c707",
      "metadata": {
        "colab": {
          "base_uri": "https://localhost:8080/",
          "height": 574
        },
        "id": "0b4cf743-6afa-47da-8d3e-61f84623c707",
        "outputId": "42ce067d-bcbb-40d1-ab9c-ed53c214b900"
      },
      "outputs": [
        {
          "output_type": "stream",
          "name": "stdout",
          "text": [
            "c. Sinh day so theo phan phoi chuan\n",
            "+ x: len = 100000, min [-3.507565673118318], max [5.668185605180547]\n",
            "+ Mat so xac suat cua day so x\n"
          ]
        },
        {
          "output_type": "display_data",
          "data": {
            "text/plain": [
              "<Figure size 600x600 with 1 Axes>"
            ],
            "image/png": "[encoded data removed]"
          },
          "metadata": {}
        }
      ],
      "source": [
        "\"\"\" CÁC BẠN LÀM BÀI Ở ĐÂY \"\"\"\n",
        "# Sử dụng hàm np.random.randn() sinh phân phối chuẩn N(0,1) --> N(m,s^2) = m + N(0,1) * s\n",
        "# Sử dụng hàm np.histogram với density=True để thống kê số lần xuất hiện với số bins = 300 (do dãy số thực)\n",
        "# ...\n",
        "mu, sigma = 1, 1\n",
        "N = 100000   # số phần tử\n",
        "\n",
        "# Sinh dữ liệu theo phân phối chuẩn: N(mu, sigma^2)\n",
        "x = mu + np.random.randn(N) * sigma\n",
        "\n",
        "# Thống kê tần số xuất hiện bằng histogram\n",
        "cnt, val = np.histogram(x, bins=300, density=True)\n",
        "val_mid = (val[:-1] + val[1:]) / 2\n",
        "\n",
        "\n",
        "print( \"c. Sinh day so theo phan phoi chuan\")\n",
        "print(f\"+ x: len = {len(x)}, min [{np.min(x)}], max [{np.max(x)}]\")\n",
        "print(f\"+ Mat so xac suat cua day so x\")\n",
        "plt.figure(figsize=(6,6))      # kich thuoc ban ve\n",
        "plt.xlim(np.min(val), np.max(val))\n",
        "plt.scatter(val_mid, cnt)\n",
        "plt.show()"
      ]
    },
    {
      "cell_type": "markdown",
      "id": "4f1a6dde-3e75-4dc7-8bab-40b7b9e17091",
      "metadata": {
        "id": "4f1a6dde-3e75-4dc7-8bab-40b7b9e17091"
      },
      "source": [
        "### Bài 2. Tính toán trên ma trận"
      ]
    },
    {
      "cell_type": "markdown",
      "id": "8ce5c9f7-de68-44cf-a1ce-950822c408d3",
      "metadata": {
        "id": "8ce5c9f7-de68-44cf-a1ce-950822c408d3"
      },
      "source": [
        "#### 1. Tạo ma trận a có M = 6 dòng, N = 4 cột"
      ]
    },
    {
      "cell_type": "code",
      "execution_count": 9,
      "id": "17b1f09d-11c7-4711-8b40-f67abd54323e",
      "metadata": {
        "colab": {
          "base_uri": "https://localhost:8080/"
        },
        "id": "17b1f09d-11c7-4711-8b40-f67abd54323e",
        "outputId": "a1d608df-b50b-46a9-8e69-26e27d99576b"
      },
      "outputs": [
        {
          "output_type": "stream",
          "name": "stdout",
          "text": [
            "Ma trận a: \n",
            " [[126 119 117 166]\n",
            " [128 193 104 185]\n",
            " [162 144 135 127]\n",
            " [167 181 198 189]\n",
            " [162 158 144 180]\n",
            " [151 194 119 159]]\n"
          ]
        }
      ],
      "source": [
        "# a = np.random.randint(100, 200, (6, 4))\n",
        "\"\"\" CÁC BẠN LÀM BÀI Ở ĐÂY \"\"\"\n",
        "import numpy as np\n",
        "import random\n",
        "a = np.random.randint(100, 200, (6, 4))\n",
        "\n",
        "print(\"Ma trận a: \\n\", a)"
      ]
    },
    {
      "cell_type": "markdown",
      "id": "8bc353b9-1740-4e94-b779-eae046171142",
      "metadata": {
        "id": "8bc353b9-1740-4e94-b779-eae046171142"
      },
      "source": [
        "#### 2. Các thao tác trên ma trận a\n",
        "(a) In ra ma trận chuyển vị <br/>\n",
        "(b) In ra phần tử ở vị trí dòng 2 cột 3 <br/>\n",
        "(c) Trích xuất dòng đầu, dòng cuối, dòng 2 <br/>\n",
        "(d) Trích xuất cột kế cuối, cột đầu <br/>\n",
        "(e) Đảo các giá trị trên từng cột <br/>\n",
        "(f) Tính tổng các dòng, trung bình các cột <br/>"
      ]
    },
    {
      "cell_type": "code",
      "execution_count": null,
      "id": "5236b916-3dda-4444-8004-9a6ab8d80df4",
      "metadata": {
        "id": "5236b916-3dda-4444-8004-9a6ab8d80df4",
        "outputId": "e0109e6c-2736-4a2f-890c-bc7a820c4e6f"
      },
      "outputs": [
        {
          "name": "stdout",
          "output_type": "stream",
          "text": [
            "a. In ra ma trận chuyển vị: \n",
            "[[197 100 116 173 177 169]\n",
            " [123 191 154 151 178 195]\n",
            " [114 101 135 137 107 136]\n",
            " [153 148 155 152 174 133]]\n",
            "\n",
            "b. In ra phần tử ở vị trí dòng 2 cột 3: 155\n",
            "\n",
            "c. Trích xuất các dòng: \n",
            "   + Dòng đầu : [197 123 114 153]\n",
            "   + Dòng cuối: [169 195 136 133]\n",
            "   + Dòng hai : [116 154 135 155]\n",
            "\n",
            "d. Trích xuất các cột: \n",
            "   + Cột kế cuối: [114 101 135 137 107 136]\n",
            "   + Cột đầu: [197 100 116 173 177 169]\n",
            "\n",
            "e. Đảo các giá trị trên từng cột: \n",
            " [[169 195 136 133]\n",
            " [177 178 107 174]\n",
            " [173 151 137 152]\n",
            " [116 154 135 155]\n",
            " [100 191 101 148]\n",
            " [197 123 114 153]]\n",
            "\n",
            "f. Phép tính theo trục:\n",
            "   + Tổng dòng: [587 540 560 613 636 633]\n",
            "   + Trung bình cột: [155.33333333 165.33333333 121.66666667 152.5       ]\n"
          ]
        }
      ],
      "source": [
        "\"\"\" CÁC BẠN LÀM BÀI Ở ĐÂY \"\"\"\n",
        "# ...\n",
        "a_t = a.T\n",
        "print(f\"a. In ra ma trận chuyển vị: \\n{a_t}\")\n",
        "\n",
        "v_23 = a[1, 2]\n",
        "print(f\"\\nb. In ra phần tử ở vị trí dòng 2 cột 3: {v_23}\")\n",
        "\n",
        "print(f\"\\nc. Trích xuất các dòng: \")\n",
        "\n",
        "d_0 = a[0, :]\n",
        "print(f\"   + Dòng đầu : {d_0}\")\n",
        "\n",
        "d_last = a[-1, :]\n",
        "print(f\"   + Dòng cuối: {d_last}\")\n",
        "\n",
        "d_2 = a[2, :]\n",
        "print(f\"   + Dòng hai : {d_2}\")\n",
        "\n",
        "print(f\"\\nd. Trích xuất các cột: \")\n",
        "\n",
        "c_l1 = a[: , -2]\n",
        "print(f\"   + Cột kế cuối: {c_l1}\")\n",
        "\n",
        "c_0 = a[:, 0]\n",
        "print(f\"   + Cột đầu: {c_0}\")\n",
        "\n",
        "dao_cot = a[::-1, :]\n",
        "print(f\"\\ne. Đảo các giá trị trên từng cột: \\n {dao_cot}\")\n",
        "\n",
        "print(f\"\\nf. Phép tính theo trục:\")\n",
        "\n",
        "tong_dong = np.sum(a, axis=1)\n",
        "print(f\"   + Tổng dòng: {tong_dong}\")\n",
        "\n",
        "tb_cot = np.mean(a, axis=0)\n",
        "print(f\"   + Trung bình cột: {tb_cot}\")"
      ]
    },
    {
      "cell_type": "markdown",
      "id": "bca46803-13a7-4324-b719-0bffd7110119",
      "metadata": {
        "id": "bca46803-13a7-4324-b719-0bffd7110119"
      },
      "source": [
        "#### 3. Các toán tử trên hai ma trận\n",
        "(a) Tạo hai ma trận A và B có 4 dòng x 3 cột và X có 3 dòng x 4 cột <br/>\n",
        "(b) Tính tổng, hiệu, tích của từng phần tử trên hai ma trận A và B <br/>\n",
        "(c) Tính phép nhân ma trận Y = A x X"
      ]
    },
    {
      "cell_type": "code",
      "execution_count": 10,
      "id": "86d9c4ed-e86c-4baf-b51b-9dbd20e5c3cb",
      "metadata": {
        "colab": {
          "base_uri": "https://localhost:8080/"
        },
        "id": "86d9c4ed-e86c-4baf-b51b-9dbd20e5c3cb",
        "outputId": "48f2c2bc-b288-4ca3-db7b-99d8d4762565"
      },
      "outputs": [
        {
          "output_type": "stream",
          "name": "stdout",
          "text": [
            "a. Tạo hai ma trận A và B có 4 dòng x 3 cột và X có 3 dòng x 4 cột\n",
            "+ Ma tran A: \n",
            "[[3 4 5]\n",
            " [1 5 5]\n",
            " [0 0 5]\n",
            " [3 4 0]]\n",
            "+ Ma tran B: \n",
            "[[5 5 4]\n",
            " [5 5 1]\n",
            " [2 5 3]\n",
            " [1 2 1]]\n",
            "+ Ma tran X: \n",
            "[[1 2 3 0]\n",
            " [1 1 0 3]\n",
            " [0 3 1 3]]\n",
            "\n",
            "b. Tính tổng, hiệu, tích của từng phần tử trên hai ma trận A và B\n",
            "A + B = \n",
            "[[ 8  9  9]\n",
            " [ 6 10  6]\n",
            " [ 2  5  8]\n",
            " [ 4  6  1]]\n",
            "A - B = \n",
            "[[-2 -1  1]\n",
            " [-4  0  4]\n",
            " [-2 -5  2]\n",
            " [ 2  2 -1]]\n",
            "A . B = \n",
            "[[15 20 20]\n",
            " [ 5 25  5]\n",
            " [ 0  0 15]\n",
            " [ 3  8  0]]\n",
            "\n",
            "c. Tính phép nhân ma trận Y = A x X\n",
            "Y = A x X --> shape A ((4, 3)) x shape X ((3, 4)) = shape Y ((4, 4)) \n",
            "[[ 7 25 14 27]\n",
            " [ 6 22  8 30]\n",
            " [ 0 15  5 15]\n",
            " [ 7 10  9 12]]\n"
          ]
        }
      ],
      "source": [
        "\"\"\" CÁC BẠN LÀM BÀI Ở ĐÂY \"\"\"\n",
        "# ...\n",
        "A = np.random.randint(0, 6, (4, 3))\n",
        "B = np.random.randint(0, 6, (4, 3))\n",
        "X = np.random.randint(0, 6, (3, 4))\n",
        "\n",
        "AB_add = A + B\n",
        "AB_sub = A - B\n",
        "AB_mul = A * B\n",
        "Y = np.dot(A, X)\n",
        "print(\"a. Tạo hai ma trận A và B có 4 dòng x 3 cột và X có 3 dòng x 4 cột\")\n",
        "print(f\"+ Ma tran A: \\n{A}\")\n",
        "print(f\"+ Ma tran B: \\n{B}\")\n",
        "print(f\"+ Ma tran X: \\n{X}\")\n",
        "\n",
        "print(\"\\nb. Tính tổng, hiệu, tích của từng phần tử trên hai ma trận A và B\")\n",
        "print(f\"A + B = \\n{AB_add}\")\n",
        "print(f\"A - B = \\n{AB_sub}\")\n",
        "print(f\"A . B = \\n{AB_mul}\")\n",
        "\n",
        "print(\"\\nc. Tính phép nhân ma trận Y = A x X\")\n",
        "print(f\"Y = A x X --> shape A ({A.shape}) x shape X ({X.shape}) = shape Y ({Y.shape}) \\n{Y}\")"
      ]
    },
    {
      "cell_type": "markdown",
      "id": "43602379-f77d-44ba-b2e3-23f85c6bcf5a",
      "metadata": {
        "id": "43602379-f77d-44ba-b2e3-23f85c6bcf5a"
      },
      "source": [
        "#### 4. Giải hệ phương trình tuyến tính\n",
        "Giải hệ phương trình tuyến tính sau:\n",
        "$$\n",
        "\\left\\{\\begin{matrix}\n",
        "        4x_1  + 3x_2 - 5x_3 = 2 \\\\\n",
        "        -2x_1 - 4x_2 + 5x_3 = 5 \\\\\n",
        "        8x_1 + 8x_2 = -3 \\\\\n",
        "\\end{matrix}\\right.\n",
        "$$"
      ]
    },
    {
      "cell_type": "code",
      "execution_count": 11,
      "id": "53db2e93-fcbe-49f6-a4dd-482d22bcda54",
      "metadata": {
        "colab": {
          "base_uri": "https://localhost:8080/"
        },
        "id": "53db2e93-fcbe-49f6-a4dd-482d22bcda54",
        "outputId": "3f63b108-bba5-40ef-c164-0a4abe966a02"
      },
      "outputs": [
        {
          "output_type": "stream",
          "name": "stdout",
          "text": [
            "+ Ma tran A: \n",
            "[[ 4.  3. -5.]\n",
            " [-2. -4.  5.]\n",
            " [ 8.  8.  0.]]\n",
            "+ Vector y: [ 2.  5. -3.]\n",
            "+ Nghiem x: [ 2.20833333 -2.58333333 -0.18333333]\n",
            "+ Kiem tra: yy = Ax = [ 2.  5. -3.] ==> ||yy -y ||_2 =  0.00\n"
          ]
        }
      ],
      "source": [
        "\"\"\" CÁC BẠN LÀM BÀI Ở ĐÂY \"\"\"\n",
        "# ...\n",
        "A = np.array([\n",
        "    [ 4,  3, -5],\n",
        "    [-2, -4,  5],\n",
        "    [ 8,  8,  0]\n",
        "], dtype=float)\n",
        "print(f\"+ Ma tran A: \\n{A}\")\n",
        "\n",
        "y = np.array([2, 5, -3], dtype=float)\n",
        "print(f\"+ Vector y: {y}\")\n",
        "\n",
        "if np.linalg.matrix_rank(A) == A.shape[1]:\n",
        "    x = np.linalg.solve(A, y)\n",
        "else:\n",
        "    x, *_ = np.linalg.lstsq(A, y, rcond=None)\n",
        "\n",
        "# Kiểm tra: yy = A @ x và chuẩn sai số ||yy - y||_2\n",
        "yy = A @ x\n",
        "diff = np.linalg.norm(yy - y, 2)\n",
        "print(f\"+ Nghiem x: {x}\")\n",
        "print(f\"+ Kiem tra: yy = Ax = {yy} ==> ||yy -y ||_2 = {diff: .2f}\")"
      ]
    },
    {
      "cell_type": "markdown",
      "id": "526b7e20-beca-4087-9cab-02ccc0a8f856",
      "metadata": {
        "id": "526b7e20-beca-4087-9cab-02ccc0a8f856"
      },
      "source": [
        "## Bài tập áp dụng"
      ]
    },
    {
      "cell_type": "markdown",
      "id": "9ee067fb-2045-4d3e-b504-ff4a8c3dcf37",
      "metadata": {
        "id": "9ee067fb-2045-4d3e-b504-ff4a8c3dcf37"
      },
      "source": [
        "### Bài 3. Tính gần đúng số pi dùng phương pháp Monte Carlo\n",
        "\n",
        "Vẽ một đường tròn $C$ có bán kính $r$ nội tiếp một hình vuông $C$, và đặt ngẫu nhiên $N$ chấm lên hình vuông. Tỉ lệ các chấm nằm trong hình tròn trên tổng số chấm xấp xỉ bằng diện tích của hình tròn chia cho hình vuông như sau:\n",
        "$$\n",
        "\\frac{N_C}{N} \\approx  \\frac{\\mathbb{S}_C}{\\mathbb{S}_N}\n",
        "$$\n",
        "nơi mà $N_C$ là các chấm trong hình tròn, $N$ là tổng số chấm, $\\mathbb{S}_C$ và $\\mathbb{S}_N$ lần lượt là diện tích của hình tròn và hình vuông.\n",
        "$$ \\mathbb{S}_C = \\pi * r^2 $$\n",
        "$$ \\mathbb{S}_N = (2*r)^2 = 4r^2 $$\n",
        "Do đó, công thức trên trở thành:\n",
        "$$\n",
        "\\frac{N_C}{N} \\approx \\frac{\\pi * r^2}{4r^2} = \\frac{\\pi}{4}\n",
        "$$\n",
        "Suy ra, ta có giá trị số $\\pi$ được tính như sau:\n",
        "$$\n",
        "\\pi \\approx \\frac{4N_C}{N}\n",
        "$$\n",
        "\n",
        "Các bạn hãy lập trình tính sấp xỉ số $\\pi$ dùng phương pháp Monte Carlo. Cho biết các sai số với $N = 100$, $N = 10000$, và $N = 1000000$. Vẽ đồ thị minh họa cho chương trình.\n",
        "\n",
        "**Hướng dẫn**: Viết chương trình phát sinh $N$ điểm $(x_i, y_i)$ với $x_i, y_i \\in [-1, -1]$. $(x_i, y_i)$ thuộc hình tròn tâm $(0, 0)$ bán kính 1 nội tiếp hình vuông có tâm tại $(0, 0)$ độ dài cạnh 2 khi và chỉ khi $x_i^2 + y_i^2 <= 1$."
      ]
    },
    {
      "cell_type": "code",
      "execution_count": 12,
      "id": "793640f7-4ba5-4d27-9d52-a65f4c25a5b0",
      "metadata": {
        "colab": {
          "base_uri": "https://localhost:8080/",
          "height": 528
        },
        "id": "793640f7-4ba5-4d27-9d52-a65f4c25a5b0",
        "outputId": "c274be2e-5f15-4b70-bf66-19a6c23b5197"
      },
      "outputs": [
        {
          "output_type": "display_data",
          "data": {
            "text/plain": [
              "<Figure size 600x600 with 1 Axes>"
            ],
            "image/png": "[encoded data removed]"
          },
          "metadata": {}
        }
      ],
      "source": [
        "import matplotlib.pyplot as plt # khai báo thư viện vẽ pyplot\n",
        "import math\n",
        "\n",
        "circle = plt.Circle((0, 0), 1, color='g') # tạo đối tượng vòng tròn\n",
        "\n",
        "fig, ax = plt.subplots(figsize=(6, 6)) # lấy figure và vùng vẽ\n",
        "\n",
        "plt.plot(0, 0, 'o', color=(0.9, 0.9, 1.0), alpha=0.8) # vẽ điểm tại tâm (0,0)\n",
        "ax.add_patch(circle) # thêm vòng tròn vào vùng vẽ\n",
        "\n",
        "x = 0.75; y = math.sqrt(1 - (x ** 2)) # (x = 0.75, y = căn bậc 2 của 1 - x^2)\n",
        "plt.arrow(0, 0, x, y)\n",
        "\n",
        "plt.xlim(-1, 1) # giới hạn trục x\n",
        "plt.ylim(-1, 1) # giới hạn trục y\n",
        "\n",
        "plt.savefig('pi.png') # lưu đồ thị xuống tập tin\n",
        "plt.show()            # hiển thị đồ thị"
      ]
    },
    {
      "cell_type": "code",
      "execution_count": 16,
      "id": "bef335d2-9e51-4fa5-8843-aa1d67a607f0",
      "metadata": {
        "colab": {
          "base_uri": "https://localhost:8080/",
          "height": 614
        },
        "id": "bef335d2-9e51-4fa5-8843-aa1d67a607f0",
        "outputId": "8b417f27-6e23-4dc7-e620-c3371bbc1e9d"
      },
      "outputs": [
        {
          "output_type": "stream",
          "name": "stdout",
          "text": [
            "n=100, pi≈3.240000, sai số = 9.840735e-02\n",
            "n=10000, pi≈3.162400, sai số = 2.080735e-02\n",
            "n=1000000, pi≈3.142124, sai số = 5.313464e-04\n"
          ]
        },
        {
          "output_type": "display_data",
          "data": {
            "text/plain": [
              "<Figure size 600x600 with 1 Axes>"
            ],
            "image/png": "[encoded data removed]"
          },
          "metadata": {}
        },
        {
          "output_type": "execute_result",
          "data": {
            "text/plain": [
              "np.float64(3.212)"
            ]
          },
          "metadata": {},
          "execution_count": 16
        }
      ],
      "source": [
        "import numpy as np\n",
        "import math\n",
        "\n",
        "def calc_pi_monte_carlo(n=100, plot=False):\n",
        "    # Sinh n điểm (x,y) trong [-1, 1]\n",
        "    x = np.random.rand(n) * 2 - 1\n",
        "    y = np.random.rand(n) * 2 - 1\n",
        "\n",
        "    # Xác định số điểm trong vòng tròn đơn vị\n",
        "    inside = x**2 + y**2 <= 1\n",
        "    n_inside = np.sum(inside)\n",
        "\n",
        "    # Xấp xỉ pi\n",
        "    pi_approx = 4 * n_inside / n\n",
        "\n",
        "    if plot:\n",
        "        plt.figure(figsize=(6, 6))\n",
        "        # Vẽ vòng tròn\n",
        "        circle = plt.Circle((0, 0), 1, color='g', fill=False)\n",
        "        ax = plt.gca()\n",
        "        ax.add_patch(circle)\n",
        "        # Vẽ các điểm\n",
        "        plt.scatter(x[inside], y[inside], color='blue', s=5, label=\"Trong vòng tròn\")\n",
        "        plt.scatter(x[~inside], y[~inside], color='red', s=5, label=\"Ngoài vòng tròn\")\n",
        "        plt.xlim(-1, 1)\n",
        "        plt.ylim(-1, 1)\n",
        "        plt.gca().set_aspect('equal')\n",
        "        plt.legend()\n",
        "        plt.title(f\"Monte Carlo n={n}, π ≈ {pi_approx:.6f}\")\n",
        "        plt.show()\n",
        "\n",
        "    return pi_approx\n",
        "\n",
        "# Thử nghiệm với các giá trị N khác nhau\n",
        "for n in [100, 10000, 1000000]:\n",
        "    pi_est = calc_pi_monte_carlo(n=n)\n",
        "    epsilon = pi_est - math.pi\n",
        "    print(f\"n={n}, pi≈{pi_est:.6f}, sai số = {epsilon:.6e}\")\n",
        "\n",
        "# Vẽ thử minh họa cho N=1000\n",
        "calc_pi_monte_carlo(n=1000, plot=True)"
      ]
    },
    {
      "cell_type": "code",
      "execution_count": 14,
      "id": "91071758-5957-497b-a5d1-2f2d17df6fae",
      "metadata": {
        "colab": {
          "base_uri": "https://localhost:8080/"
        },
        "id": "91071758-5957-497b-a5d1-2f2d17df6fae",
        "outputId": "54417b04-7f0b-45b3-ead8-0449f604b005"
      },
      "outputs": [
        {
          "output_type": "stream",
          "name": "stdout",
          "text": [
            "epsilon(n=100):  -0.10159265358979308\n",
            "epsilon(n=100):  -0.061592653589793045\n",
            "epsilon(n=10000):  0.022007346410207074\n",
            "epsilon(n=10000):  -0.021992653589792965\n",
            "epsilon(n=1000000):  -0.0013246535897932787\n",
            "epsilon(n=1000000):  -0.0008286535897932268\n"
          ]
        }
      ],
      "source": [
        "import math\n",
        "\n",
        "print(\"epsilon(n=100): \", calc_pi_monte_carlo(n = 100) - math.pi)\n",
        "print(\"epsilon(n=100): \", calc_pi_monte_carlo(n = 100) - math.pi)\n",
        "print(\"epsilon(n=10000): \", calc_pi_monte_carlo(n = 10000) - math.pi)\n",
        "print(\"epsilon(n=10000): \", calc_pi_monte_carlo(n = 10000) - math.pi)\n",
        "print(\"epsilon(n=1000000): \", calc_pi_monte_carlo(n = 1000000) - math.pi)\n",
        "print(\"epsilon(n=1000000): \", calc_pi_monte_carlo(n = 1000000) - math.pi)"
      ]
    },
    {
      "cell_type": "code",
      "source": [
        "from google.colab import drive\n",
        "drive.mount('/content/drive')"
      ],
      "metadata": {
        "colab": {
          "base_uri": "https://localhost:8080/"
        },
        "id": "6MMOMcoVmMW9",
        "outputId": "6bb6517d-1083-4887-e0b0-8a6be7bf54f5"
      },
      "id": "6MMOMcoVmMW9",
      "execution_count": 15,
      "outputs": [
        {
          "output_type": "stream",
          "name": "stdout",
          "text": [
            "Mounted at /content/drive\n"
          ]
        }
      ]
    }
  ],
  "metadata": {
    "kernelspec": {
      "display_name": "Python 3",
      "language": "python",
      "name": "python3"
    },
    "language_info": {
      "codemirror_mode": {
        "name": "ipython",
        "version": 3
      },
      "file_extension": ".py",
      "mimetype": "text/x-python",
      "name": "python",
      "nbconvert_exporter": "python",
      "pygments_lexer": "ipython3",
      "version": "3.8.8"
    },
    "colab": {
      "provenance": [],
      "include_colab_link": true
    }
  },
  "nbformat": 4,
  "nbformat_minor": 5
}
